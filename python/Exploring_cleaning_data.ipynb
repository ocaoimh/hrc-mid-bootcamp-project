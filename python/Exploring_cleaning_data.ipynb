{
 "cells": [
  {
   "attachments": {},
   "cell_type": "markdown",
   "id": "2b1d1ff8",
   "metadata": {},
   "source": [
    "# Data Collection, Cleaning and Pre-processing"
   ]
  },
  {
   "cell_type": "markdown",
   "id": "5201c705",
   "metadata": {},
   "source": [
    "## Import Libraries"
   ]
  },
  {
   "cell_type": "code",
   "execution_count": 17,
   "id": "7b312cb8",
   "metadata": {},
   "outputs": [],
   "source": [
    "# We import here libraries that we'll use\n",
    "import pandas as pd\n",
    "import numpy as np\n",
    "import math\n",
    "import matplotlib.pyplot as plt\n",
    "import seaborn as sns\n",
    "import scipy.stats as stats\n",
    "\n",
    "from sklearn.model_selection import train_test_split\n",
    "\n",
    "from sklearn.preprocessing import Normalizer\n",
    "from sklearn.preprocessing import MinMaxScaler  \n",
    "from sklearn.preprocessing import StandardScaler\n",
    "from scipy.stats import boxcox, yeojohnson\n",
    "from sklearn.preprocessing import PowerTransformer\n",
    "\n",
    "from statsmodels.stats.outliers_influence import variance_inflation_factor\n",
    "from sklearn.metrics import mean_squared_error, r2_score, mean_absolute_error"
   ]
  },
  {
   "cell_type": "markdown",
   "id": "35f1d27d",
   "metadata": {},
   "source": [
    "## Gather Data"
   ]
  },
  {
   "cell_type": "code",
   "execution_count": 18,
   "id": "f09c08e9",
   "metadata": {},
   "outputs": [],
   "source": [
    "df = pd.read_excel(r'./../data/creditcardmarketing.xlsx') # import the excel file using a relative path to the 'data' folder"
   ]
  },
  {
   "cell_type": "markdown",
   "id": "954defef",
   "metadata": {},
   "source": [
    "## Explore and Clean Data"
   ]
  },
  {
   "cell_type": "code",
   "execution_count": 19,
   "id": "54e05f48",
   "metadata": {},
   "outputs": [
    {
     "data": {
      "text/html": [
       "<div>\n",
       "<style scoped>\n",
       "    .dataframe tbody tr th:only-of-type {\n",
       "        vertical-align: middle;\n",
       "    }\n",
       "\n",
       "    .dataframe tbody tr th {\n",
       "        vertical-align: top;\n",
       "    }\n",
       "\n",
       "    .dataframe thead th {\n",
       "        text-align: right;\n",
       "    }\n",
       "</style>\n",
       "<table border=\"1\" class=\"dataframe\">\n",
       "  <thead>\n",
       "    <tr style=\"text-align: right;\">\n",
       "      <th></th>\n",
       "      <th>Customer Number</th>\n",
       "      <th>Offer Accepted</th>\n",
       "      <th>Reward</th>\n",
       "      <th>Mailer Type</th>\n",
       "      <th>Income Level</th>\n",
       "      <th># Bank Accounts Open</th>\n",
       "      <th>Overdraft Protection</th>\n",
       "      <th>Credit Rating</th>\n",
       "      <th># Credit Cards Held</th>\n",
       "      <th># Homes Owned</th>\n",
       "      <th>Household Size</th>\n",
       "      <th>Own Your Home</th>\n",
       "      <th>Average Balance</th>\n",
       "      <th>Q1 Balance</th>\n",
       "      <th>Q2 Balance</th>\n",
       "      <th>Q3 Balance</th>\n",
       "      <th>Q4 Balance</th>\n",
       "    </tr>\n",
       "  </thead>\n",
       "  <tbody>\n",
       "    <tr>\n",
       "      <th>0</th>\n",
       "      <td>1</td>\n",
       "      <td>No</td>\n",
       "      <td>Air Miles</td>\n",
       "      <td>Letter</td>\n",
       "      <td>High</td>\n",
       "      <td>1</td>\n",
       "      <td>No</td>\n",
       "      <td>High</td>\n",
       "      <td>2</td>\n",
       "      <td>1</td>\n",
       "      <td>4</td>\n",
       "      <td>No</td>\n",
       "      <td>1160.75</td>\n",
       "      <td>1669.0</td>\n",
       "      <td>877.0</td>\n",
       "      <td>1095.0</td>\n",
       "      <td>1002.0</td>\n",
       "    </tr>\n",
       "    <tr>\n",
       "      <th>1</th>\n",
       "      <td>2</td>\n",
       "      <td>No</td>\n",
       "      <td>Air Miles</td>\n",
       "      <td>Letter</td>\n",
       "      <td>Medium</td>\n",
       "      <td>1</td>\n",
       "      <td>No</td>\n",
       "      <td>Medium</td>\n",
       "      <td>2</td>\n",
       "      <td>2</td>\n",
       "      <td>5</td>\n",
       "      <td>Yes</td>\n",
       "      <td>147.25</td>\n",
       "      <td>39.0</td>\n",
       "      <td>106.0</td>\n",
       "      <td>78.0</td>\n",
       "      <td>366.0</td>\n",
       "    </tr>\n",
       "    <tr>\n",
       "      <th>2</th>\n",
       "      <td>3</td>\n",
       "      <td>No</td>\n",
       "      <td>Air Miles</td>\n",
       "      <td>Postcard</td>\n",
       "      <td>High</td>\n",
       "      <td>2</td>\n",
       "      <td>No</td>\n",
       "      <td>Medium</td>\n",
       "      <td>2</td>\n",
       "      <td>1</td>\n",
       "      <td>2</td>\n",
       "      <td>Yes</td>\n",
       "      <td>276.50</td>\n",
       "      <td>367.0</td>\n",
       "      <td>352.0</td>\n",
       "      <td>145.0</td>\n",
       "      <td>242.0</td>\n",
       "    </tr>\n",
       "    <tr>\n",
       "      <th>3</th>\n",
       "      <td>4</td>\n",
       "      <td>No</td>\n",
       "      <td>Air Miles</td>\n",
       "      <td>Letter</td>\n",
       "      <td>Medium</td>\n",
       "      <td>2</td>\n",
       "      <td>No</td>\n",
       "      <td>High</td>\n",
       "      <td>1</td>\n",
       "      <td>1</td>\n",
       "      <td>4</td>\n",
       "      <td>No</td>\n",
       "      <td>1219.00</td>\n",
       "      <td>1578.0</td>\n",
       "      <td>1760.0</td>\n",
       "      <td>1119.0</td>\n",
       "      <td>419.0</td>\n",
       "    </tr>\n",
       "    <tr>\n",
       "      <th>4</th>\n",
       "      <td>5</td>\n",
       "      <td>No</td>\n",
       "      <td>Air Miles</td>\n",
       "      <td>Letter</td>\n",
       "      <td>Medium</td>\n",
       "      <td>1</td>\n",
       "      <td>No</td>\n",
       "      <td>Medium</td>\n",
       "      <td>2</td>\n",
       "      <td>1</td>\n",
       "      <td>6</td>\n",
       "      <td>Yes</td>\n",
       "      <td>1211.00</td>\n",
       "      <td>2140.0</td>\n",
       "      <td>1357.0</td>\n",
       "      <td>982.0</td>\n",
       "      <td>365.0</td>\n",
       "    </tr>\n",
       "  </tbody>\n",
       "</table>\n",
       "</div>"
      ],
      "text/plain": [
       "   Customer Number Offer Accepted     Reward Mailer Type Income Level   \n",
       "0                1             No  Air Miles      Letter         High  \\\n",
       "1                2             No  Air Miles      Letter       Medium   \n",
       "2                3             No  Air Miles    Postcard         High   \n",
       "3                4             No  Air Miles      Letter       Medium   \n",
       "4                5             No  Air Miles      Letter       Medium   \n",
       "\n",
       "   # Bank Accounts Open Overdraft Protection Credit Rating   \n",
       "0                     1                   No          High  \\\n",
       "1                     1                   No        Medium   \n",
       "2                     2                   No        Medium   \n",
       "3                     2                   No          High   \n",
       "4                     1                   No        Medium   \n",
       "\n",
       "   # Credit Cards Held  # Homes Owned  Household Size Own Your Home   \n",
       "0                    2              1               4            No  \\\n",
       "1                    2              2               5           Yes   \n",
       "2                    2              1               2           Yes   \n",
       "3                    1              1               4            No   \n",
       "4                    2              1               6           Yes   \n",
       "\n",
       "   Average Balance  Q1 Balance  Q2 Balance  Q3 Balance  Q4 Balance  \n",
       "0          1160.75      1669.0       877.0      1095.0      1002.0  \n",
       "1           147.25        39.0       106.0        78.0       366.0  \n",
       "2           276.50       367.0       352.0       145.0       242.0  \n",
       "3          1219.00      1578.0      1760.0      1119.0       419.0  \n",
       "4          1211.00      2140.0      1357.0       982.0       365.0  "
      ]
     },
     "execution_count": 19,
     "metadata": {},
     "output_type": "execute_result"
    }
   ],
   "source": [
    "df.head()   # show the first lines of the dataframe that we had imported"
   ]
  },
  {
   "cell_type": "code",
   "execution_count": 20,
   "id": "26a3a90d",
   "metadata": {},
   "outputs": [
    {
     "name": "stdout",
     "output_type": "stream",
     "text": [
      "Number of rows:  18000\n",
      "Number of columns:  17\n"
     ]
    }
   ],
   "source": [
    "print(\"Number of rows: \", df.shape[0])\n",
    "print('Number of columns: ', df.shape[1])"
   ]
  },
  {
   "cell_type": "markdown",
   "id": "c2d39e2b",
   "metadata": {},
   "source": [
    "> #### **Observations:**\n",
    "> - column names need to be standardized\n",
    "> - average balance column needs to be checked against the other quarter balances\n",
    "> "
   ]
  },
  {
   "cell_type": "code",
   "execution_count": 21,
   "id": "73bfccda",
   "metadata": {},
   "outputs": [],
   "source": [
    "# Clean column names, take off blank spaces and #\n",
    "cols = [col_name.lower().replace(' ', '_') for col_name in df.columns]\n",
    "df.columns = cols\n",
    "df.rename(columns={'#_bank_accounts_open': 'bank_accounts_open', '#_credit_cards_held' : 'credit_cards_held', '#_homes_owned' : 'homes_owned'}, inplace=True)"
   ]
  },
  {
   "cell_type": "code",
   "execution_count": 22,
   "id": "e76fdd7a",
   "metadata": {},
   "outputs": [
    {
     "name": "stdout",
     "output_type": "stream",
     "text": [
      "<class 'pandas.core.frame.DataFrame'>\n",
      "RangeIndex: 18000 entries, 0 to 17999\n",
      "Data columns (total 17 columns):\n",
      " #   Column                Non-Null Count  Dtype  \n",
      "---  ------                --------------  -----  \n",
      " 0   customer_number       18000 non-null  int64  \n",
      " 1   offer_accepted        18000 non-null  object \n",
      " 2   reward                18000 non-null  object \n",
      " 3   mailer_type           18000 non-null  object \n",
      " 4   income_level          18000 non-null  object \n",
      " 5   bank_accounts_open    18000 non-null  int64  \n",
      " 6   overdraft_protection  18000 non-null  object \n",
      " 7   credit_rating         18000 non-null  object \n",
      " 8   credit_cards_held     18000 non-null  int64  \n",
      " 9   homes_owned           18000 non-null  int64  \n",
      " 10  household_size        18000 non-null  int64  \n",
      " 11  own_your_home         18000 non-null  object \n",
      " 12  average_balance       17976 non-null  float64\n",
      " 13  q1_balance            17976 non-null  float64\n",
      " 14  q2_balance            17976 non-null  float64\n",
      " 15  q3_balance            17976 non-null  float64\n",
      " 16  q4_balance            17976 non-null  float64\n",
      "dtypes: float64(5), int64(5), object(7)\n",
      "memory usage: 2.3+ MB\n"
     ]
    }
   ],
   "source": [
    "df.info()  # Shows variables informations"
   ]
  },
  {
   "cell_type": "markdown",
   "id": "1bd244e5",
   "metadata": {},
   "source": [
    "> **Note:** dtypes seems to be in order. However, we can see that there are some missing values in the 5 balance columns"
   ]
  },
  {
   "cell_type": "code",
   "execution_count": 23,
   "id": "199d128f",
   "metadata": {},
   "outputs": [
    {
     "data": {
      "text/plain": [
       "average_balance    24\n",
       "q1_balance         24\n",
       "q2_balance         24\n",
       "q3_balance         24\n",
       "q4_balance         24\n",
       "dtype: int64"
      ]
     },
     "execution_count": 23,
     "metadata": {},
     "output_type": "execute_result"
    }
   ],
   "source": [
    "# How many null values is present in the data?\n",
    "nulls = df.isna().sum()\n",
    "nulls[nulls>0]"
   ]
  },
  {
   "cell_type": "code",
   "execution_count": 24,
   "id": "476011da",
   "metadata": {},
   "outputs": [
    {
     "data": {
      "text/plain": [
       "0.001"
      ]
     },
     "execution_count": 24,
     "metadata": {},
     "output_type": "execute_result"
    }
   ],
   "source": [
    "#Percentage of missing values\n",
    "round(24/df.shape[0],3)"
   ]
  },
  {
   "attachments": {},
   "cell_type": "markdown",
   "id": "6812d166",
   "metadata": {},
   "source": [
    "> **Note:** Since the missing values represent less than 1% of our data, we will opt to drop them. We will, however, save them in a df for safekeeping."
   ]
  },
  {
   "cell_type": "code",
   "execution_count": 25,
   "id": "fce8188a",
   "metadata": {},
   "outputs": [
    {
     "data": {
      "text/html": [
       "<div>\n",
       "<style scoped>\n",
       "    .dataframe tbody tr th:only-of-type {\n",
       "        vertical-align: middle;\n",
       "    }\n",
       "\n",
       "    .dataframe tbody tr th {\n",
       "        vertical-align: top;\n",
       "    }\n",
       "\n",
       "    .dataframe thead th {\n",
       "        text-align: right;\n",
       "    }\n",
       "</style>\n",
       "<table border=\"1\" class=\"dataframe\">\n",
       "  <thead>\n",
       "    <tr style=\"text-align: right;\">\n",
       "      <th></th>\n",
       "      <th>customer_number</th>\n",
       "      <th>offer_accepted</th>\n",
       "      <th>reward</th>\n",
       "      <th>mailer_type</th>\n",
       "      <th>income_level</th>\n",
       "      <th>bank_accounts_open</th>\n",
       "      <th>overdraft_protection</th>\n",
       "      <th>credit_rating</th>\n",
       "      <th>credit_cards_held</th>\n",
       "      <th>homes_owned</th>\n",
       "      <th>household_size</th>\n",
       "      <th>own_your_home</th>\n",
       "      <th>average_balance</th>\n",
       "      <th>q1_balance</th>\n",
       "      <th>q2_balance</th>\n",
       "      <th>q3_balance</th>\n",
       "      <th>q4_balance</th>\n",
       "    </tr>\n",
       "  </thead>\n",
       "  <tbody>\n",
       "    <tr>\n",
       "      <th>323</th>\n",
       "      <td>324</td>\n",
       "      <td>No</td>\n",
       "      <td>Points</td>\n",
       "      <td>Postcard</td>\n",
       "      <td>Medium</td>\n",
       "      <td>1</td>\n",
       "      <td>No</td>\n",
       "      <td>High</td>\n",
       "      <td>1</td>\n",
       "      <td>1</td>\n",
       "      <td>4</td>\n",
       "      <td>No</td>\n",
       "      <td>NaN</td>\n",
       "      <td>NaN</td>\n",
       "      <td>NaN</td>\n",
       "      <td>NaN</td>\n",
       "      <td>NaN</td>\n",
       "    </tr>\n",
       "    <tr>\n",
       "      <th>3070</th>\n",
       "      <td>3071</td>\n",
       "      <td>Yes</td>\n",
       "      <td>Air Miles</td>\n",
       "      <td>Postcard</td>\n",
       "      <td>Low</td>\n",
       "      <td>3</td>\n",
       "      <td>No</td>\n",
       "      <td>Medium</td>\n",
       "      <td>2</td>\n",
       "      <td>1</td>\n",
       "      <td>4</td>\n",
       "      <td>Yes</td>\n",
       "      <td>NaN</td>\n",
       "      <td>NaN</td>\n",
       "      <td>NaN</td>\n",
       "      <td>NaN</td>\n",
       "      <td>NaN</td>\n",
       "    </tr>\n",
       "    <tr>\n",
       "      <th>3108</th>\n",
       "      <td>3109</td>\n",
       "      <td>No</td>\n",
       "      <td>Air Miles</td>\n",
       "      <td>Letter</td>\n",
       "      <td>Low</td>\n",
       "      <td>1</td>\n",
       "      <td>No</td>\n",
       "      <td>High</td>\n",
       "      <td>3</td>\n",
       "      <td>1</td>\n",
       "      <td>4</td>\n",
       "      <td>Yes</td>\n",
       "      <td>NaN</td>\n",
       "      <td>NaN</td>\n",
       "      <td>NaN</td>\n",
       "      <td>NaN</td>\n",
       "      <td>NaN</td>\n",
       "    </tr>\n",
       "    <tr>\n",
       "      <th>3789</th>\n",
       "      <td>3790</td>\n",
       "      <td>No</td>\n",
       "      <td>Air Miles</td>\n",
       "      <td>Letter</td>\n",
       "      <td>Medium</td>\n",
       "      <td>2</td>\n",
       "      <td>No</td>\n",
       "      <td>High</td>\n",
       "      <td>3</td>\n",
       "      <td>1</td>\n",
       "      <td>3</td>\n",
       "      <td>No</td>\n",
       "      <td>NaN</td>\n",
       "      <td>NaN</td>\n",
       "      <td>NaN</td>\n",
       "      <td>NaN</td>\n",
       "      <td>NaN</td>\n",
       "    </tr>\n",
       "    <tr>\n",
       "      <th>5083</th>\n",
       "      <td>5084</td>\n",
       "      <td>No</td>\n",
       "      <td>Points</td>\n",
       "      <td>Letter</td>\n",
       "      <td>Medium</td>\n",
       "      <td>1</td>\n",
       "      <td>No</td>\n",
       "      <td>High</td>\n",
       "      <td>1</td>\n",
       "      <td>1</td>\n",
       "      <td>3</td>\n",
       "      <td>Yes</td>\n",
       "      <td>NaN</td>\n",
       "      <td>NaN</td>\n",
       "      <td>NaN</td>\n",
       "      <td>NaN</td>\n",
       "      <td>NaN</td>\n",
       "    </tr>\n",
       "  </tbody>\n",
       "</table>\n",
       "</div>"
      ],
      "text/plain": [
       "      customer_number offer_accepted     reward mailer_type income_level   \n",
       "323               324             No     Points    Postcard       Medium  \\\n",
       "3070             3071            Yes  Air Miles    Postcard          Low   \n",
       "3108             3109             No  Air Miles      Letter          Low   \n",
       "3789             3790             No  Air Miles      Letter       Medium   \n",
       "5083             5084             No     Points      Letter       Medium   \n",
       "\n",
       "      bank_accounts_open overdraft_protection credit_rating   \n",
       "323                    1                   No          High  \\\n",
       "3070                   3                   No        Medium   \n",
       "3108                   1                   No          High   \n",
       "3789                   2                   No          High   \n",
       "5083                   1                   No          High   \n",
       "\n",
       "      credit_cards_held  homes_owned  household_size own_your_home   \n",
       "323                   1            1               4            No  \\\n",
       "3070                  2            1               4           Yes   \n",
       "3108                  3            1               4           Yes   \n",
       "3789                  3            1               3            No   \n",
       "5083                  1            1               3           Yes   \n",
       "\n",
       "      average_balance  q1_balance  q2_balance  q3_balance  q4_balance  \n",
       "323               NaN         NaN         NaN         NaN         NaN  \n",
       "3070              NaN         NaN         NaN         NaN         NaN  \n",
       "3108              NaN         NaN         NaN         NaN         NaN  \n",
       "3789              NaN         NaN         NaN         NaN         NaN  \n",
       "5083              NaN         NaN         NaN         NaN         NaN  "
      ]
     },
     "execution_count": 25,
     "metadata": {},
     "output_type": "execute_result"
    }
   ],
   "source": [
    "# New dataframe to keep records with null values\n",
    "df_nans = df[df.average_balance.isna()]\n",
    "df_nans.head()"
   ]
  },
  {
   "cell_type": "code",
   "execution_count": 26,
   "id": "f18b8030",
   "metadata": {},
   "outputs": [],
   "source": [
    "# Make a copy of the original, cleaned data before dropping the missing values\n",
    "df_copy = df.copy()"
   ]
  },
  {
   "cell_type": "code",
   "execution_count": 27,
   "id": "b2df17fa",
   "metadata": {},
   "outputs": [
    {
     "data": {
      "text/plain": [
       "(17976, 17)"
      ]
     },
     "execution_count": 27,
     "metadata": {},
     "output_type": "execute_result"
    }
   ],
   "source": [
    "# Drop missing values from the dataframe to be used moving forward since it represents less than 1% of all the records\n",
    "df = df[~df.average_balance.isna()]\n",
    "df.shape"
   ]
  },
  {
   "cell_type": "markdown",
   "id": "311e5f21",
   "metadata": {},
   "source": [
    "### Target\n",
    " - Our target variable for this project is the offer_accepted column.\n",
    " - Below is a closer look at the distribution of the target variable:"
   ]
  },
  {
   "cell_type": "code",
   "execution_count": 28,
   "id": "8895d6c3",
   "metadata": {},
   "outputs": [
    {
     "data": {
      "image/png": "[encoded data removed]",
      "text/plain": [
       "<Figure size 1200x600 with 2 Axes>"
      ]
     },
     "metadata": {},
     "output_type": "display_data"
    }
   ],
   "source": [
    "# Compute the count of each category\n",
    "counts = df['offer_accepted'].value_counts()\n",
    "\n",
    "# Compute the percentage of each category\n",
    "percentages = df['offer_accepted'].value_counts(normalize=True) * 100\n",
    "\n",
    "# Create a grid of two subplots\n",
    "fig, (ax1, ax2) = plt.subplots(1, 2, figsize=(12, 6))\n",
    "\n",
    "# Set the style using seaborn\n",
    "sns.set_style(\"whitegrid\")\n",
    "\n",
    "# Plot the count of each category in the first subplot\n",
    "counts.plot(kind='bar', ax=ax1, color='darkblue', alpha=0.8)\n",
    "ax1.set_title('Count', fontsize=16, fontweight='bold')\n",
    "ax1.set_xlabel('Offer Accepted', fontsize=14, fontweight='bold')\n",
    "ax1.set_ylabel('Count', fontsize=14, fontweight='bold')\n",
    "ax1.tick_params(axis='both', labelsize=12)\n",
    "\n",
    "# Plot the percentage of each category in the second subplot\n",
    "percentages.plot(kind='bar', ax=ax2, color='darkgreen', alpha=0.8)\n",
    "ax2.set_title('Percentage', fontsize=16, fontweight='bold')\n",
    "ax2.set_xlabel('Offer Accepted', fontsize=14, fontweight='bold')\n",
    "ax2.set_ylabel('Percentage', fontsize=14, fontweight='bold')\n",
    "ax2.tick_params(axis='both', labelsize=12)\n",
    "\n",
    "# Add a legend\n",
    "fig.legend(labels=['Offer Accepted'], loc='lower center', ncol=1, fontsize=12)\n",
    "\n",
    "# Add some space between the subplots\n",
    "fig.subplots_adjust(wspace=0.3)\n",
    "\n",
    "# Show the plot\n",
    "plt.show()\n"
   ]
  },
  {
   "cell_type": "code",
   "execution_count": null,
   "id": "15e3164d",
   "metadata": {},
   "outputs": [],
   "source": [
    "target = df.offer_accepted\n",
    "target = target.map({'No': 0, 'Yes':1})\n",
    "target.value_counts()"
   ]
  },
  {
   "attachments": {},
   "cell_type": "markdown",
   "id": "12cff3e9",
   "metadata": {},
   "source": [
    "> **Note:** There is a huge imbalance present in the target variable which will definitely impact our models. We will address this imbalance later on."
   ]
  },
  {
   "cell_type": "markdown",
   "id": "95344681",
   "metadata": {},
   "source": [
    "### Numerical Variables"
   ]
  },
  {
   "cell_type": "code",
   "execution_count": 29,
   "id": "62224627",
   "metadata": {},
   "outputs": [
    {
     "data": {
      "text/html": [
       "<div>\n",
       "<style scoped>\n",
       "    .dataframe tbody tr th:only-of-type {\n",
       "        vertical-align: middle;\n",
       "    }\n",
       "\n",
       "    .dataframe tbody tr th {\n",
       "        vertical-align: top;\n",
       "    }\n",
       "\n",
       "    .dataframe thead th {\n",
       "        text-align: right;\n",
       "    }\n",
       "</style>\n",
       "<table border=\"1\" class=\"dataframe\">\n",
       "  <thead>\n",
       "    <tr style=\"text-align: right;\">\n",
       "      <th></th>\n",
       "      <th>bank_accounts_open</th>\n",
       "      <th>credit_cards_held</th>\n",
       "      <th>homes_owned</th>\n",
       "      <th>household_size</th>\n",
       "      <th>average_balance</th>\n",
       "      <th>q1_balance</th>\n",
       "      <th>q2_balance</th>\n",
       "      <th>q3_balance</th>\n",
       "      <th>q4_balance</th>\n",
       "    </tr>\n",
       "  </thead>\n",
       "  <tbody>\n",
       "    <tr>\n",
       "      <th>0</th>\n",
       "      <td>1</td>\n",
       "      <td>2</td>\n",
       "      <td>1</td>\n",
       "      <td>4</td>\n",
       "      <td>1160.75</td>\n",
       "      <td>1669.0</td>\n",
       "      <td>877.0</td>\n",
       "      <td>1095.0</td>\n",
       "      <td>1002.0</td>\n",
       "    </tr>\n",
       "    <tr>\n",
       "      <th>1</th>\n",
       "      <td>1</td>\n",
       "      <td>2</td>\n",
       "      <td>2</td>\n",
       "      <td>5</td>\n",
       "      <td>147.25</td>\n",
       "      <td>39.0</td>\n",
       "      <td>106.0</td>\n",
       "      <td>78.0</td>\n",
       "      <td>366.0</td>\n",
       "    </tr>\n",
       "    <tr>\n",
       "      <th>2</th>\n",
       "      <td>2</td>\n",
       "      <td>2</td>\n",
       "      <td>1</td>\n",
       "      <td>2</td>\n",
       "      <td>276.50</td>\n",
       "      <td>367.0</td>\n",
       "      <td>352.0</td>\n",
       "      <td>145.0</td>\n",
       "      <td>242.0</td>\n",
       "    </tr>\n",
       "    <tr>\n",
       "      <th>3</th>\n",
       "      <td>2</td>\n",
       "      <td>1</td>\n",
       "      <td>1</td>\n",
       "      <td>4</td>\n",
       "      <td>1219.00</td>\n",
       "      <td>1578.0</td>\n",
       "      <td>1760.0</td>\n",
       "      <td>1119.0</td>\n",
       "      <td>419.0</td>\n",
       "    </tr>\n",
       "    <tr>\n",
       "      <th>4</th>\n",
       "      <td>1</td>\n",
       "      <td>2</td>\n",
       "      <td>1</td>\n",
       "      <td>6</td>\n",
       "      <td>1211.00</td>\n",
       "      <td>2140.0</td>\n",
       "      <td>1357.0</td>\n",
       "      <td>982.0</td>\n",
       "      <td>365.0</td>\n",
       "    </tr>\n",
       "  </tbody>\n",
       "</table>\n",
       "</div>"
      ],
      "text/plain": [
       "   bank_accounts_open  credit_cards_held  homes_owned  household_size   \n",
       "0                   1                  2            1               4  \\\n",
       "1                   1                  2            2               5   \n",
       "2                   2                  2            1               2   \n",
       "3                   2                  1            1               4   \n",
       "4                   1                  2            1               6   \n",
       "\n",
       "   average_balance  q1_balance  q2_balance  q3_balance  q4_balance  \n",
       "0          1160.75      1669.0       877.0      1095.0      1002.0  \n",
       "1           147.25        39.0       106.0        78.0       366.0  \n",
       "2           276.50       367.0       352.0       145.0       242.0  \n",
       "3          1219.00      1578.0      1760.0      1119.0       419.0  \n",
       "4          1211.00      2140.0      1357.0       982.0       365.0  "
      ]
     },
     "execution_count": 29,
     "metadata": {},
     "output_type": "execute_result"
    }
   ],
   "source": [
    "# Create separate df for numerical variables\n",
    "numericals = df.select_dtypes(np.number)\n",
    "numericals.drop('customer_number', axis=1, inplace=True)\n",
    "numericals.head()"
   ]
  },
  {
   "cell_type": "code",
   "execution_count": 30,
   "id": "aa62a303",
   "metadata": {},
   "outputs": [
    {
     "data": {
      "text/html": [
       "<div>\n",
       "<style scoped>\n",
       "    .dataframe tbody tr th:only-of-type {\n",
       "        vertical-align: middle;\n",
       "    }\n",
       "\n",
       "    .dataframe tbody tr th {\n",
       "        vertical-align: top;\n",
       "    }\n",
       "\n",
       "    .dataframe thead th {\n",
       "        text-align: right;\n",
       "    }\n",
       "</style>\n",
       "<table border=\"1\" class=\"dataframe\">\n",
       "  <thead>\n",
       "    <tr style=\"text-align: right;\">\n",
       "      <th></th>\n",
       "      <th>bank_accounts_open</th>\n",
       "      <th>credit_cards_held</th>\n",
       "      <th>homes_owned</th>\n",
       "      <th>household_size</th>\n",
       "      <th>average_balance</th>\n",
       "      <th>q1_balance</th>\n",
       "      <th>q2_balance</th>\n",
       "      <th>q3_balance</th>\n",
       "      <th>q4_balance</th>\n",
       "    </tr>\n",
       "  </thead>\n",
       "  <tbody>\n",
       "    <tr>\n",
       "      <th>count</th>\n",
       "      <td>17976.00</td>\n",
       "      <td>17976.0</td>\n",
       "      <td>17976.00</td>\n",
       "      <td>17976.00</td>\n",
       "      <td>17976.00</td>\n",
       "      <td>17976.00</td>\n",
       "      <td>17976.00</td>\n",
       "      <td>17976.00</td>\n",
       "      <td>17976.00</td>\n",
       "    </tr>\n",
       "    <tr>\n",
       "      <th>mean</th>\n",
       "      <td>1.26</td>\n",
       "      <td>1.9</td>\n",
       "      <td>1.20</td>\n",
       "      <td>3.50</td>\n",
       "      <td>940.52</td>\n",
       "      <td>910.45</td>\n",
       "      <td>999.39</td>\n",
       "      <td>1042.03</td>\n",
       "      <td>810.19</td>\n",
       "    </tr>\n",
       "    <tr>\n",
       "      <th>std</th>\n",
       "      <td>0.47</td>\n",
       "      <td>0.8</td>\n",
       "      <td>0.43</td>\n",
       "      <td>1.11</td>\n",
       "      <td>350.30</td>\n",
       "      <td>620.08</td>\n",
       "      <td>457.40</td>\n",
       "      <td>553.45</td>\n",
       "      <td>559.00</td>\n",
       "    </tr>\n",
       "    <tr>\n",
       "      <th>min</th>\n",
       "      <td>1.00</td>\n",
       "      <td>1.0</td>\n",
       "      <td>1.00</td>\n",
       "      <td>1.00</td>\n",
       "      <td>48.25</td>\n",
       "      <td>0.00</td>\n",
       "      <td>0.00</td>\n",
       "      <td>0.00</td>\n",
       "      <td>0.00</td>\n",
       "    </tr>\n",
       "    <tr>\n",
       "      <th>25%</th>\n",
       "      <td>1.00</td>\n",
       "      <td>1.0</td>\n",
       "      <td>1.00</td>\n",
       "      <td>3.00</td>\n",
       "      <td>787.50</td>\n",
       "      <td>392.75</td>\n",
       "      <td>663.00</td>\n",
       "      <td>633.00</td>\n",
       "      <td>363.00</td>\n",
       "    </tr>\n",
       "    <tr>\n",
       "      <th>50%</th>\n",
       "      <td>1.00</td>\n",
       "      <td>2.0</td>\n",
       "      <td>1.00</td>\n",
       "      <td>3.00</td>\n",
       "      <td>1007.00</td>\n",
       "      <td>772.00</td>\n",
       "      <td>1032.00</td>\n",
       "      <td>945.50</td>\n",
       "      <td>703.00</td>\n",
       "    </tr>\n",
       "    <tr>\n",
       "      <th>75%</th>\n",
       "      <td>1.00</td>\n",
       "      <td>2.0</td>\n",
       "      <td>1.00</td>\n",
       "      <td>4.00</td>\n",
       "      <td>1153.25</td>\n",
       "      <td>1521.00</td>\n",
       "      <td>1342.00</td>\n",
       "      <td>1463.00</td>\n",
       "      <td>1212.00</td>\n",
       "    </tr>\n",
       "    <tr>\n",
       "      <th>max</th>\n",
       "      <td>3.00</td>\n",
       "      <td>4.0</td>\n",
       "      <td>3.00</td>\n",
       "      <td>9.00</td>\n",
       "      <td>3366.25</td>\n",
       "      <td>3450.00</td>\n",
       "      <td>3421.00</td>\n",
       "      <td>3823.00</td>\n",
       "      <td>4215.00</td>\n",
       "    </tr>\n",
       "  </tbody>\n",
       "</table>\n",
       "</div>"
      ],
      "text/plain": [
       "       bank_accounts_open  credit_cards_held  homes_owned  household_size   \n",
       "count            17976.00            17976.0     17976.00        17976.00  \\\n",
       "mean                 1.26                1.9         1.20            3.50   \n",
       "std                  0.47                0.8         0.43            1.11   \n",
       "min                  1.00                1.0         1.00            1.00   \n",
       "25%                  1.00                1.0         1.00            3.00   \n",
       "50%                  1.00                2.0         1.00            3.00   \n",
       "75%                  1.00                2.0         1.00            4.00   \n",
       "max                  3.00                4.0         3.00            9.00   \n",
       "\n",
       "       average_balance  q1_balance  q2_balance  q3_balance  q4_balance  \n",
       "count         17976.00    17976.00    17976.00    17976.00    17976.00  \n",
       "mean            940.52      910.45      999.39     1042.03      810.19  \n",
       "std             350.30      620.08      457.40      553.45      559.00  \n",
       "min              48.25        0.00        0.00        0.00        0.00  \n",
       "25%             787.50      392.75      663.00      633.00      363.00  \n",
       "50%            1007.00      772.00     1032.00      945.50      703.00  \n",
       "75%            1153.25     1521.00     1342.00     1463.00     1212.00  \n",
       "max            3366.25     3450.00     3421.00     3823.00     4215.00  "
      ]
     },
     "execution_count": 30,
     "metadata": {},
     "output_type": "execute_result"
    }
   ],
   "source": [
    "numericals.describe().round(2)"
   ]
  },
  {
   "cell_type": "markdown",
   "id": "96ffc7a7",
   "metadata": {},
   "source": [
    "> **Note:** Looking at some statistics above, we can assume that balance will most likely be skewed. There also seem to be household size that reaches 9 so this column will be looked at in more detail."
   ]
  },
  {
   "cell_type": "code",
   "execution_count": 31,
   "id": "ef6998fc",
   "metadata": {},
   "outputs": [
    {
     "data": {
      "text/plain": [
       "household_size\n",
       "3    5705\n",
       "4    5532\n",
       "5    2851\n",
       "2    2809\n",
       "1     539\n",
       "6     538\n",
       "8       1\n",
       "9       1\n",
       "Name: count, dtype: int64"
      ]
     },
     "execution_count": 31,
     "metadata": {},
     "output_type": "execute_result"
    }
   ],
   "source": [
    "numericals.household_size.value_counts()"
   ]
  },
  {
   "cell_type": "code",
   "execution_count": 32,
   "id": "966a6baf",
   "metadata": {},
   "outputs": [
    {
     "data": {
      "text/html": [
       "<div>\n",
       "<style scoped>\n",
       "    .dataframe tbody tr th:only-of-type {\n",
       "        vertical-align: middle;\n",
       "    }\n",
       "\n",
       "    .dataframe tbody tr th {\n",
       "        vertical-align: top;\n",
       "    }\n",
       "\n",
       "    .dataframe thead th {\n",
       "        text-align: right;\n",
       "    }\n",
       "</style>\n",
       "<table border=\"1\" class=\"dataframe\">\n",
       "  <thead>\n",
       "    <tr style=\"text-align: right;\">\n",
       "      <th></th>\n",
       "      <th>bank_accounts_open</th>\n",
       "      <th>credit_cards_held</th>\n",
       "      <th>homes_owned</th>\n",
       "      <th>household_size</th>\n",
       "      <th>average_balance</th>\n",
       "      <th>q1_balance</th>\n",
       "      <th>q2_balance</th>\n",
       "      <th>q3_balance</th>\n",
       "      <th>q4_balance</th>\n",
       "    </tr>\n",
       "  </thead>\n",
       "  <tbody>\n",
       "    <tr>\n",
       "      <th>38</th>\n",
       "      <td>1</td>\n",
       "      <td>1</td>\n",
       "      <td>2</td>\n",
       "      <td>8</td>\n",
       "      <td>1285.0</td>\n",
       "      <td>206.0</td>\n",
       "      <td>1499.0</td>\n",
       "      <td>1545.0</td>\n",
       "      <td>1890.0</td>\n",
       "    </tr>\n",
       "    <tr>\n",
       "      <th>101</th>\n",
       "      <td>1</td>\n",
       "      <td>1</td>\n",
       "      <td>1</td>\n",
       "      <td>9</td>\n",
       "      <td>161.5</td>\n",
       "      <td>44.0</td>\n",
       "      <td>99.0</td>\n",
       "      <td>454.0</td>\n",
       "      <td>49.0</td>\n",
       "    </tr>\n",
       "  </tbody>\n",
       "</table>\n",
       "</div>"
      ],
      "text/plain": [
       "     bank_accounts_open  credit_cards_held  homes_owned  household_size   \n",
       "38                    1                  1            2               8  \\\n",
       "101                   1                  1            1               9   \n",
       "\n",
       "     average_balance  q1_balance  q2_balance  q3_balance  q4_balance  \n",
       "38            1285.0       206.0      1499.0      1545.0      1890.0  \n",
       "101            161.5        44.0        99.0       454.0        49.0  "
      ]
     },
     "execution_count": 32,
     "metadata": {},
     "output_type": "execute_result"
    }
   ],
   "source": [
    "numericals[(numericals.household_size == 8) | (numericals.household_size == 9)]"
   ]
  },
  {
   "cell_type": "code",
   "execution_count": 33,
   "id": "d451cea4",
   "metadata": {},
   "outputs": [
    {
     "data": {
      "text/plain": [
       "<Axes: >"
      ]
     },
     "execution_count": 33,
     "metadata": {},
     "output_type": "execute_result"
    },
    {
     "data": {
      "image/png": "[encoded data removed]",
      "text/plain": [
       "<Figure size 640x480 with 1 Axes>"
      ]
     },
     "metadata": {},
     "output_type": "display_data"
    }
   ],
   "source": [
    "sns.boxenplot(numericals.household_size)"
   ]
  },
  {
   "cell_type": "code",
   "execution_count": 34,
   "id": "1ff4baf1",
   "metadata": {},
   "outputs": [
    {
     "data": {
      "text/plain": [
       "6.0"
      ]
     },
     "execution_count": 34,
     "metadata": {},
     "output_type": "execute_result"
    }
   ],
   "source": [
    "q1 = np.percentile(numericals.household_size,25)\n",
    "q3 = np.percentile(numericals.household_size,75)\n",
    "iqr = q3 - q1\n",
    "upper_limit =  q3 + (1.5 * iqr)\n",
    "upper_limit.round()"
   ]
  },
  {
   "cell_type": "markdown",
   "id": "b52cfc70",
   "metadata": {},
   "source": [
    "> **Note:** Seeing as there are only 1 data point each for household sizes 8 and 9, we will be capping both to 6 which is the upper limit."
   ]
  },
  {
   "cell_type": "code",
   "execution_count": 35,
   "id": "bc1ca5fc",
   "metadata": {},
   "outputs": [
    {
     "data": {
      "text/plain": [
       "household_size\n",
       "1     539\n",
       "2    2809\n",
       "3    5705\n",
       "4    5532\n",
       "5    2851\n",
       "6     540\n",
       "Name: count, dtype: int64"
      ]
     },
     "execution_count": 35,
     "metadata": {},
     "output_type": "execute_result"
    }
   ],
   "source": [
    "numericals.household_size = numericals.household_size.apply(lambda x: 6 if x > 6 else x)\n",
    "numericals.household_size.value_counts().sort_index()"
   ]
  },
  {
   "cell_type": "code",
   "execution_count": 36,
   "id": "061b6de2",
   "metadata": {},
   "outputs": [
    {
     "data": {
      "text/plain": [
       "True    17976\n",
       "Name: count, dtype: int64"
      ]
     },
     "execution_count": 36,
     "metadata": {},
     "output_type": "execute_result"
    }
   ],
   "source": [
    "# check if average_balance is corresponds to the average of the 4 quarters balance\n",
    "balance_check = numericals.iloc[:, -4:]\n",
    "balance_check['avg'] = balance_check.mean(axis=1)\n",
    "(balance_check.avg == numericals.average_balance).value_counts()"
   ]
  },
  {
   "cell_type": "markdown",
   "id": "1499618c",
   "metadata": {},
   "source": [
    "> **Note:** The average_balance column IS the average of all 4 quarters balance. Multicollinearity will be checked below."
   ]
  },
  {
   "cell_type": "markdown",
   "id": "4d93be64",
   "metadata": {},
   "source": [
    "### Separate Contiuous from Discrete Numerical Variables"
   ]
  },
  {
   "cell_type": "code",
   "execution_count": 37,
   "id": "913e9fe8",
   "metadata": {},
   "outputs": [
    {
     "data": {
      "text/html": [
       "<div>\n",
       "<style scoped>\n",
       "    .dataframe tbody tr th:only-of-type {\n",
       "        vertical-align: middle;\n",
       "    }\n",
       "\n",
       "    .dataframe tbody tr th {\n",
       "        vertical-align: top;\n",
       "    }\n",
       "\n",
       "    .dataframe thead th {\n",
       "        text-align: right;\n",
       "    }\n",
       "</style>\n",
       "<table border=\"1\" class=\"dataframe\">\n",
       "  <thead>\n",
       "    <tr style=\"text-align: right;\">\n",
       "      <th></th>\n",
       "      <th>average_balance</th>\n",
       "      <th>q1_balance</th>\n",
       "      <th>q2_balance</th>\n",
       "      <th>q3_balance</th>\n",
       "      <th>q4_balance</th>\n",
       "    </tr>\n",
       "  </thead>\n",
       "  <tbody>\n",
       "    <tr>\n",
       "      <th>0</th>\n",
       "      <td>1160.75</td>\n",
       "      <td>1669.0</td>\n",
       "      <td>877.0</td>\n",
       "      <td>1095.0</td>\n",
       "      <td>1002.0</td>\n",
       "    </tr>\n",
       "    <tr>\n",
       "      <th>1</th>\n",
       "      <td>147.25</td>\n",
       "      <td>39.0</td>\n",
       "      <td>106.0</td>\n",
       "      <td>78.0</td>\n",
       "      <td>366.0</td>\n",
       "    </tr>\n",
       "    <tr>\n",
       "      <th>2</th>\n",
       "      <td>276.50</td>\n",
       "      <td>367.0</td>\n",
       "      <td>352.0</td>\n",
       "      <td>145.0</td>\n",
       "      <td>242.0</td>\n",
       "    </tr>\n",
       "    <tr>\n",
       "      <th>3</th>\n",
       "      <td>1219.00</td>\n",
       "      <td>1578.0</td>\n",
       "      <td>1760.0</td>\n",
       "      <td>1119.0</td>\n",
       "      <td>419.0</td>\n",
       "    </tr>\n",
       "    <tr>\n",
       "      <th>4</th>\n",
       "      <td>1211.00</td>\n",
       "      <td>2140.0</td>\n",
       "      <td>1357.0</td>\n",
       "      <td>982.0</td>\n",
       "      <td>365.0</td>\n",
       "    </tr>\n",
       "  </tbody>\n",
       "</table>\n",
       "</div>"
      ],
      "text/plain": [
       "   average_balance  q1_balance  q2_balance  q3_balance  q4_balance\n",
       "0          1160.75      1669.0       877.0      1095.0      1002.0\n",
       "1           147.25        39.0       106.0        78.0       366.0\n",
       "2           276.50       367.0       352.0       145.0       242.0\n",
       "3          1219.00      1578.0      1760.0      1119.0       419.0\n",
       "4          1211.00      2140.0      1357.0       982.0       365.0"
      ]
     },
     "execution_count": 37,
     "metadata": {},
     "output_type": "execute_result"
    }
   ],
   "source": [
    "# separate df with continuous numerical variables\n",
    "cont = numericals.iloc[:, -5:]\n",
    "cont.head()"
   ]
  },
  {
   "cell_type": "code",
   "execution_count": 38,
   "id": "5a00a005",
   "metadata": {},
   "outputs": [
    {
     "data": {
      "text/html": [
       "<div>\n",
       "<style scoped>\n",
       "    .dataframe tbody tr th:only-of-type {\n",
       "        vertical-align: middle;\n",
       "    }\n",
       "\n",
       "    .dataframe tbody tr th {\n",
       "        vertical-align: top;\n",
       "    }\n",
       "\n",
       "    .dataframe thead th {\n",
       "        text-align: right;\n",
       "    }\n",
       "</style>\n",
       "<table border=\"1\" class=\"dataframe\">\n",
       "  <thead>\n",
       "    <tr style=\"text-align: right;\">\n",
       "      <th></th>\n",
       "      <th>average_balance</th>\n",
       "      <th>q1_balance</th>\n",
       "      <th>q2_balance</th>\n",
       "      <th>q3_balance</th>\n",
       "      <th>q4_balance</th>\n",
       "    </tr>\n",
       "  </thead>\n",
       "  <tbody>\n",
       "    <tr>\n",
       "      <th>count</th>\n",
       "      <td>17976.00</td>\n",
       "      <td>17976.00</td>\n",
       "      <td>17976.00</td>\n",
       "      <td>17976.00</td>\n",
       "      <td>17976.00</td>\n",
       "    </tr>\n",
       "    <tr>\n",
       "      <th>mean</th>\n",
       "      <td>940.52</td>\n",
       "      <td>910.45</td>\n",
       "      <td>999.39</td>\n",
       "      <td>1042.03</td>\n",
       "      <td>810.19</td>\n",
       "    </tr>\n",
       "    <tr>\n",
       "      <th>std</th>\n",
       "      <td>350.30</td>\n",
       "      <td>620.08</td>\n",
       "      <td>457.40</td>\n",
       "      <td>553.45</td>\n",
       "      <td>559.00</td>\n",
       "    </tr>\n",
       "    <tr>\n",
       "      <th>min</th>\n",
       "      <td>48.25</td>\n",
       "      <td>0.00</td>\n",
       "      <td>0.00</td>\n",
       "      <td>0.00</td>\n",
       "      <td>0.00</td>\n",
       "    </tr>\n",
       "    <tr>\n",
       "      <th>25%</th>\n",
       "      <td>787.50</td>\n",
       "      <td>392.75</td>\n",
       "      <td>663.00</td>\n",
       "      <td>633.00</td>\n",
       "      <td>363.00</td>\n",
       "    </tr>\n",
       "    <tr>\n",
       "      <th>50%</th>\n",
       "      <td>1007.00</td>\n",
       "      <td>772.00</td>\n",
       "      <td>1032.00</td>\n",
       "      <td>945.50</td>\n",
       "      <td>703.00</td>\n",
       "    </tr>\n",
       "    <tr>\n",
       "      <th>75%</th>\n",
       "      <td>1153.25</td>\n",
       "      <td>1521.00</td>\n",
       "      <td>1342.00</td>\n",
       "      <td>1463.00</td>\n",
       "      <td>1212.00</td>\n",
       "    </tr>\n",
       "    <tr>\n",
       "      <th>max</th>\n",
       "      <td>3366.25</td>\n",
       "      <td>3450.00</td>\n",
       "      <td>3421.00</td>\n",
       "      <td>3823.00</td>\n",
       "      <td>4215.00</td>\n",
       "    </tr>\n",
       "  </tbody>\n",
       "</table>\n",
       "</div>"
      ],
      "text/plain": [
       "       average_balance  q1_balance  q2_balance  q3_balance  q4_balance\n",
       "count         17976.00    17976.00    17976.00    17976.00    17976.00\n",
       "mean            940.52      910.45      999.39     1042.03      810.19\n",
       "std             350.30      620.08      457.40      553.45      559.00\n",
       "min              48.25        0.00        0.00        0.00        0.00\n",
       "25%             787.50      392.75      663.00      633.00      363.00\n",
       "50%            1007.00      772.00     1032.00      945.50      703.00\n",
       "75%            1153.25     1521.00     1342.00     1463.00     1212.00\n",
       "max            3366.25     3450.00     3421.00     3823.00     4215.00"
      ]
     },
     "execution_count": 38,
     "metadata": {},
     "output_type": "execute_result"
    }
   ],
   "source": [
    "cont.describe().round(2)"
   ]
  },
  {
   "cell_type": "code",
   "execution_count": null,
   "id": "22598404",
   "metadata": {},
   "outputs": [],
   "source": [
    "def continous_distribution(df):\n",
    "    a = math.ceil(df.shape[1]/2)  # number of rows\n",
    "    b = 2  # number of columns\n",
    "    c = 1  # initialize plot counter\n",
    "\n",
    "    fig = plt.figure(figsize = (14,10))\n",
    "    plt.suptitle(\"Distribution of Numerical Variables\", fontsize = 14, y=1)\n",
    "\n",
    "    for i in df:\n",
    "        plt.subplot(a, b, c)\n",
    "        plt.title('{}'.format(i, a, b, c))\n",
    "        plt.xlabel(i)\n",
    "        fig = sns.distplot(df[i])\n",
    "        fig.axvline(x = np.mean(df[i]), color=\"red\")\n",
    "        fig.axvline(x = np.median(df[i]), color=\"green\")\n",
    "        c = c + 1\n",
    "    \n",
    "    plt.tight_layout()\n",
    "    plt.show()"
   ]
  },
  {
   "cell_type": "code",
   "execution_count": null,
   "id": "42e7c26b",
   "metadata": {},
   "outputs": [],
   "source": [
    "continous_distribution(cont)"
   ]
  },
  {
   "cell_type": "markdown",
   "id": "1e22d6fd",
   "metadata": {},
   "source": [
    "> **Observations:**\n",
    ">   - average_balance : looks like two normal distributions, one smaller than the other.\n",
    ">   - q2_balance looks to be closest to the normal distribution."
   ]
  },
  {
   "cell_type": "markdown",
   "id": "df77b645",
   "metadata": {},
   "source": [
    "#### Looking at the Outliers"
   ]
  },
  {
   "cell_type": "code",
   "execution_count": null,
   "id": "b3c745b4",
   "metadata": {},
   "outputs": [],
   "source": [
    "def check_outliers(df):\n",
    "    a = math.ceil(df.shape[1]/2)  # number of rows\n",
    "    b = 2  # number of columns\n",
    "    c = 1  # initialize plot counter\n",
    "\n",
    "    fig = plt.figure(figsize = (14,15))\n",
    "    plt.suptitle(\"Plotting Outliers\", fontsize = 14, y=1)\n",
    "\n",
    "    for i in df:\n",
    "        plt.subplot(a, b, c)\n",
    "        plt.title('{}'.format(i, a, b, c))\n",
    "        plt.xlabel(i)\n",
    "        sns.boxenplot(x = df[i])\n",
    "        c = c + 1\n",
    "    \n",
    "    plt.tight_layout()\n",
    "    plt.show()"
   ]
  },
  {
   "cell_type": "code",
   "execution_count": null,
   "id": "42b05ea4",
   "metadata": {},
   "outputs": [],
   "source": [
    "check_outliers(numericals)"
   ]
  },
  {
   "cell_type": "markdown",
   "id": "c2e5642e",
   "metadata": {},
   "source": [
    "> **Note:** Before dealing with outliers, we will first transform continuous variables."
   ]
  },
  {
   "cell_type": "code",
   "execution_count": null,
   "id": "27944302",
   "metadata": {},
   "outputs": [],
   "source": [
    "# Pearson Correlation for continuous variables\n",
    "corr_matrix = cont.join(target).corr()"
   ]
  },
  {
   "cell_type": "code",
   "execution_count": null,
   "id": "181a3bfe",
   "metadata": {},
   "outputs": [],
   "source": [
    "corr_matrix.head()"
   ]
  },
  {
   "cell_type": "code",
   "execution_count": null,
   "id": "9b750c60",
   "metadata": {},
   "outputs": [],
   "source": [
    "# Create a mask for the upper triangle\n",
    "mask = np.triu(np.ones_like(corr_matrix, dtype=bool))\n",
    "\n",
    "# Set up the figure and axes\n",
    "fig, ax = plt.subplots(figsize=(10, 8))\n",
    "\n",
    "# Create heatmap using the mask\n",
    "sns.heatmap(corr_matrix, mask=mask, cmap='coolwarm', annot=True, fmt='.2f', linewidths=.5, ax=ax)\n",
    "\n",
    "# Add a title and adjust the margins\n",
    "plt.title('Correlation Matrix Heatmap', fontsize=18)\n",
    "plt.subplots_adjust(left=0.15, bottom=0.15)\n",
    "\n",
    "# Show the plot\n",
    "plt.show()"
   ]
  },
  {
   "cell_type": "code",
   "execution_count": null,
   "id": "71c095c8",
   "metadata": {},
   "outputs": [],
   "source": [
    "def calc_vif(X):\n",
    "    # Calculating VIF\n",
    "    vif = pd.DataFrame()\n",
    "    vif[\"variables\"] = X.columns\n",
    "    vif[\"VIF\"] = [variance_inflation_factor(X.values, i) for i in range(X.shape[1])]\n",
    "    return vif.round(2)"
   ]
  },
  {
   "cell_type": "code",
   "execution_count": null,
   "id": "57bdf64d",
   "metadata": {},
   "outputs": [],
   "source": [
    "calc_vif(numericals)"
   ]
  },
  {
   "cell_type": "markdown",
   "id": "3bd39fa2",
   "metadata": {},
   "source": [
    "> **Note:** After checking for the variance inflation factor (VIF) we can see that the average balance and the 4 quarter balances are perfectly correlated with each other. We will still keep all the variables, though, as this would not be a problem for certain models which would be applied later."
   ]
  },
  {
   "cell_type": "code",
   "execution_count": null,
   "id": "6473c708",
   "metadata": {},
   "outputs": [],
   "source": [
    "# Discrete Numerical Variables\n",
    "discrete = numericals.iloc[:, :4].join(target)\n",
    "discrete"
   ]
  },
  {
   "cell_type": "markdown",
   "id": "706ced3f",
   "metadata": {},
   "source": [
    "#### Distribution of Discrete Numerical Variables"
   ]
  },
  {
   "cell_type": "code",
   "execution_count": null,
   "id": "e422b860",
   "metadata": {},
   "outputs": [],
   "source": [
    "a = 2  # number of rows\n",
    "b = 2  # number of columns\n",
    "c = 1  # initialize plot counter\n",
    "\n",
    "fig = plt.figure(figsize = (13,8))\n",
    "plt.suptitle(\"Distribution of Discrete Numerical Variables\", fontsize = 14, y=1)\n",
    "sns.set_palette('colorblind')\n",
    "\n",
    "for i in discrete.drop('offer_accepted', axis=1):\n",
    "    plt.subplot(a, b, c)\n",
    "    plt.title('{}'.format(i, a, b, c))\n",
    "    plt.xlabel(i)\n",
    "    sns.countplot(data = discrete, x = i)\n",
    "    c = c + 1\n",
    "\n",
    "plt.tight_layout()\n",
    "plt.show()"
   ]
  },
  {
   "cell_type": "markdown",
   "id": "7e849032",
   "metadata": {},
   "source": [
    "#### Distribution in Relation With Target"
   ]
  },
  {
   "cell_type": "code",
   "execution_count": null,
   "id": "4718def9",
   "metadata": {},
   "outputs": [],
   "source": [
    "a = 3  # number of rows\n",
    "b = 2  # number of columns\n",
    "c = 1  # initialize plot counter\n",
    "\n",
    "fig = plt.figure(figsize = (13,10))\n",
    "plt.suptitle(\"Distribution in Relation With Target\", fontsize = 14, y=1)\n",
    "sns.set_palette('colorblind')\n",
    "\n",
    "for i in discrete:\n",
    "    plt.subplot(a, b, c)\n",
    "    plt.title('{}'.format(i, a, b, c))\n",
    "    plt.xlabel(i)\n",
    "    sns.countplot(data = discrete, x = i, hue=('offer_accepted'))\n",
    "    c = c + 1\n",
    "\n",
    "plt.tight_layout()\n",
    "plt.show()"
   ]
  },
  {
   "cell_type": "code",
   "execution_count": null,
   "id": "035749c6",
   "metadata": {},
   "outputs": [],
   "source": [
    "# Kendall Correlation\n",
    "corr_discrete = discrete.corr(method='kendall').round(2)\n",
    "corr_discrete"
   ]
  },
  {
   "cell_type": "code",
   "execution_count": null,
   "id": "d2c5c22a",
   "metadata": {},
   "outputs": [],
   "source": [
    "# Create a mask for the upper triangle\n",
    "mask = np.triu(np.ones_like(corr_discrete, dtype=bool))\n",
    "\n",
    "# Set up the figure and axes\n",
    "fig, ax = plt.subplots(figsize=(10, 8))\n",
    "\n",
    "# Create heatmap using the mask\n",
    "sns.heatmap(corr_discrete, mask=mask, cmap='Spectral', annot=True, fmt='.2f', linewidths=.5, ax=ax)\n",
    "\n",
    "# Add a title and adjust the margins\n",
    "plt.title('Discrete Variables Correlation Matrix Heatmap', fontsize=18)\n",
    "plt.subplots_adjust(left=0.15, bottom=0.15)\n",
    "\n",
    "# Show the plot\n",
    "plt.show()"
   ]
  },
  {
   "cell_type": "markdown",
   "id": "df243325",
   "metadata": {},
   "source": [
    "> **Note:** There doesn't seem to be any correlation between the target and the other independent variables."
   ]
  },
  {
   "cell_type": "markdown",
   "id": "00b3330a",
   "metadata": {},
   "source": [
    "### Transformations"
   ]
  },
  {
   "cell_type": "code",
   "execution_count": null,
   "id": "99b6fa93",
   "metadata": {},
   "outputs": [],
   "source": [
    "def df_transformed(df, function):\n",
    "    new_df = df.copy()\n",
    "    for col in new_df:\n",
    "        new_df[col] = list(map(function, new_df[col]))\n",
    "    return new_df\n",
    "\n",
    "# This function 'df_transformed' takes a dataframe 'df' and a function 'function' as inputs, \n",
    "# and applies the function to each column of the dataframe. \n",
    "# The output is a new dataframe with the transformed values."
   ]
  },
  {
   "cell_type": "code",
   "execution_count": null,
   "id": "9e6d4c3f",
   "metadata": {},
   "outputs": [],
   "source": [
    "def log_transform(x):\n",
    "    if np.isfinite(x) and x!=0:\n",
    "        return np.log(x)\n",
    "    else:\n",
    "        return np.NAN \n",
    "    \n",
    "# This function is useful for transforming skewed data or data with outliers, \n",
    "# as the logarithmic transformation can help to make the distribution more symmetric and easier to analyze."
   ]
  },
  {
   "cell_type": "code",
   "execution_count": null,
   "id": "f44bbc5d",
   "metadata": {},
   "outputs": [],
   "source": [
    "log_cont = df_transformed(cont, log_transform)\n",
    "log_cont"
   ]
  },
  {
   "cell_type": "code",
   "execution_count": null,
   "id": "59c8d47c",
   "metadata": {},
   "outputs": [],
   "source": [
    "continous_distribution(log_cont)"
   ]
  },
  {
   "cell_type": "code",
   "execution_count": null,
   "id": "5c789f49",
   "metadata": {},
   "outputs": [],
   "source": [
    "check_outliers(log_cont)"
   ]
  },
  {
   "cell_type": "code",
   "execution_count": null,
   "id": "c8d79ac7",
   "metadata": {},
   "outputs": [],
   "source": [
    "def sqrt_transform(x):\n",
    "    if np.isfinite(x) and x>=0:\n",
    "        return np.sqrt(x)\n",
    "    else:\n",
    "        return np.NAN\n",
    "    \n",
    "# This is a function called 'sqrt_transform' that takes a numerical input 'x' and returns the square root of 'x',\n",
    "# provided that 'x' is finite and greater than or equal to 0. If x is not finite or is less than 0, \n",
    "# the function returns 'np.NAN', which stands for \"not a number\" in numpy.\n",
    "\n",
    "# This function can also be useful for transforming skewed data or data with outliers, \n",
    "# as the square root transformation can help to make the distribution more symmetric and easier to analyze."
   ]
  },
  {
   "cell_type": "code",
   "execution_count": null,
   "id": "acf1c3a4",
   "metadata": {},
   "outputs": [],
   "source": [
    "sqrt_cont = df_transformed(cont, sqrt_transform)\n",
    "sqrt_cont "
   ]
  },
  {
   "cell_type": "code",
   "execution_count": null,
   "id": "976659c6",
   "metadata": {},
   "outputs": [],
   "source": [
    "continous_distribution(sqrt_cont)\n",
    "check_outliers(sqrt_cont)"
   ]
  },
  {
   "cell_type": "code",
   "execution_count": null,
   "id": "ed42f31f",
   "metadata": {},
   "outputs": [],
   "source": [
    "from scipy.stats import boxcox, yeojohnson\n",
    "\n",
    "# Both of these functions can be useful for transforming data that is not normally distributed,\n",
    "# yeojohnson can be applied to both positive and negative data when boxcox can only deal with positive values."
   ]
  },
  {
   "cell_type": "code",
   "execution_count": null,
   "id": "ba64a50e",
   "metadata": {},
   "outputs": [],
   "source": [
    "boxcox_cont = pd.DataFrame(columns=cont.columns)\n",
    "bc_lambda = pd.DataFrame(columns=cont.columns)"
   ]
  },
  {
   "cell_type": "code",
   "execution_count": null,
   "id": "27313003",
   "metadata": {},
   "outputs": [],
   "source": [
    "def boxcox_transform(col):\n",
    "    lmbda = []\n",
    "    if np.all(col > 0):\n",
    "        # Apply Box-Cox transform for positive values\n",
    "        transformed_data, lambda_ = boxcox(col)\n",
    "        lmbda.append(lambda_)\n",
    "        return transformed_data, lmbda\n",
    "    else:\n",
    "        # Apply Yeo-Johnson transform for negative values\n",
    "        transformed_data, lambda_ = yeojohnson(col)\n",
    "        lmbda.append(lambda_)\n",
    "        return transformed_data, lmbda"
   ]
  },
  {
   "cell_type": "code",
   "execution_count": null,
   "id": "7d138b27",
   "metadata": {},
   "outputs": [],
   "source": [
    "for col in cont.columns:\n",
    "    boxcox_cont[col], bc_lambda[col] = boxcox_transform(cont[col])"
   ]
  },
  {
   "cell_type": "code",
   "execution_count": null,
   "id": "ffcdcffc",
   "metadata": {},
   "outputs": [],
   "source": [
    "boxcox_cont"
   ]
  },
  {
   "cell_type": "code",
   "execution_count": null,
   "id": "114cc84a",
   "metadata": {},
   "outputs": [],
   "source": [
    "bc_lambda"
   ]
  },
  {
   "cell_type": "code",
   "execution_count": null,
   "id": "01a66de2",
   "metadata": {},
   "outputs": [],
   "source": [
    "continous_distribution(boxcox_cont)\n",
    "check_outliers(boxcox_cont)"
   ]
  },
  {
   "cell_type": "markdown",
   "id": "0f25aaf4",
   "metadata": {},
   "source": [
    "#### Checking Distribution of Transformed Continuous Variables"
   ]
  },
  {
   "cell_type": "code",
   "execution_count": null,
   "id": "e601605f",
   "metadata": {},
   "outputs": [],
   "source": [
    "def plot_transformations(col):\n",
    "    # Save original column data\n",
    "    orig = col\n",
    "    \n",
    "    # Transform using Box-Cox\n",
    "    bc, lmbda = boxcox_transform(col)\n",
    "    \n",
    "    # Transform using logarithm\n",
    "    log = list(map(log_transform, col))\n",
    "    \n",
    "    # Transform using square root\n",
    "    sqrt = list(map(sqrt_transform, col))\n",
    "    \n",
    "    # Create figure for plotting\n",
    "    fig = plt.figure(figsize = (15,8))\n",
    "    \n",
    "    # Add title to figure\n",
    "    plt.suptitle(\"Data for columns: {}\".format(col.name),fontsize = 14, y=1)\n",
    "    \n",
    "    # Add subplots for original data and Box-Cox transformed data\n",
    "    plt.subplot(221)\n",
    "    fig1 = sns.distplot(orig)\n",
    "    fig1.axvline(x = orig.mean(), color=\"red\")\n",
    "    fig1.axvline(x = np.median(orig), color=\"green\")\n",
    "    plt.title('Original')\n",
    "    \n",
    "    plt.subplot(222)\n",
    "    fig2 = sns.distplot(bc)\n",
    "    fig2.axvline(x = bc.mean(), color=\"red\")\n",
    "    fig2.axvline(x = np.median(bc), color=\"green\")\n",
    "    plt.title('Box-Cox')\n",
    "    \n",
    "    # Add subplots for logarithm and square root transformed data\n",
    "    plt.subplot(223)\n",
    "    fig3 = sns.distplot(log)\n",
    "    fig3.axvline(x = np.mean(log), color=\"red\")\n",
    "    fig3.axvline(x = np.median(log), color=\"green\")\n",
    "    plt.title('Log Transformed')\n",
    "    \n",
    "    plt.subplot(224)\n",
    "    fig4 = sns.distplot(sqrt)\n",
    "    fig4.axvline(x = np.mean(sqrt), color=\"red\")\n",
    "    fig4.axvline(x = np.median(sqrt), color=\"green\")\n",
    "    plt.title('Square Root')\n",
    "    \n",
    "    # Adjust spacing between subplots and show plot\n",
    "    plt.tight_layout()\n",
    "    plt.show()\n"
   ]
  },
  {
   "cell_type": "code",
   "execution_count": null,
   "id": "0ada3bc0",
   "metadata": {},
   "outputs": [],
   "source": [
    "for col in cont.columns:\n",
    "    plot_transformations(cont[col])"
   ]
  },
  {
   "cell_type": "code",
   "execution_count": null,
   "id": "6ee539dc",
   "metadata": {},
   "outputs": [],
   "source": [
    "# create a StandardScaler object\n",
    "scaler = StandardScaler()\n",
    "\n",
    "# fit the scaler to the data\n",
    "scaled_numericals = scaler.fit_transform(cont)\n",
    "\n",
    "# create a new dataframe with the scaled data\n",
    "scaled_df = pd.DataFrame(scaled_numericals, columns=cont.columns)\n",
    "# plot the histograms\n",
    "fig, axs = plt.subplots(nrows=1, ncols=5, figsize=(20, 5))\n",
    "\n",
    "for i, col in enumerate(scaled_df.columns):\n",
    "    axs[i].hist(scaled_df[col], bins=8)\n",
    "    axs[i].set_title('Histogram of {} (scaled)'.format(col))\n",
    "    \n",
    "plt.tight_layout()\n",
    "plt.show()"
   ]
  },
  {
   "cell_type": "markdown",
   "id": "edc74a8b",
   "metadata": {},
   "source": [
    "### Categorical Variables"
   ]
  },
  {
   "cell_type": "code",
   "execution_count": null,
   "id": "f81eb3e5",
   "metadata": {},
   "outputs": [],
   "source": [
    "cat_df = df.select_dtypes(include=['object'])"
   ]
  },
  {
   "cell_type": "code",
   "execution_count": null,
   "id": "94a4043f",
   "metadata": {},
   "outputs": [],
   "source": [
    "cat_df.head()"
   ]
  },
  {
   "cell_type": "code",
   "execution_count": null,
   "id": "3776f0e7",
   "metadata": {},
   "outputs": [],
   "source": [
    "# separate target variable\n",
    "y = cat_df.offer_accepted\n",
    "y.value_counts()"
   ]
  },
  {
   "cell_type": "code",
   "execution_count": null,
   "id": "678a08cf",
   "metadata": {},
   "outputs": [],
   "source": [
    "cat_df.drop('offer_accepted', axis=1, inplace=True)"
   ]
  },
  {
   "cell_type": "code",
   "execution_count": null,
   "id": "4876a556",
   "metadata": {},
   "outputs": [],
   "source": [
    "#separate ordinal from nominal categoricals\n",
    "nominal = cat_df[['reward', 'mailer_type', 'overdraft_protection', 'own_your_home']]\n",
    "nominal.head()"
   ]
  },
  {
   "cell_type": "code",
   "execution_count": null,
   "id": "43e29e65",
   "metadata": {},
   "outputs": [],
   "source": [
    "# Use pandas get_dummies to create binary indicators for each category\n",
    "encoded_df = pd.get_dummies(nominal).astype(int)\n",
    "encoded_df"
   ]
  },
  {
   "cell_type": "code",
   "execution_count": null,
   "id": "a6d1b813",
   "metadata": {},
   "outputs": [],
   "source": [
    "#ordinal variables\n",
    "ordinal = cat_df[['income_level', 'credit_rating']]\n",
    "ordinal.head()\n"
   ]
  },
  {
   "cell_type": "code",
   "execution_count": null,
   "id": "0e586c08",
   "metadata": {},
   "outputs": [],
   "source": [
    "order = {'Low' : 0, 'Medium': 1, 'High' : 2}\n",
    "ordinal.income_level = ordinal.income_level.map(order)\n",
    "ordinal.credit_rating = ordinal.credit_rating.map(order)"
   ]
  },
  {
   "cell_type": "code",
   "execution_count": null,
   "id": "5008fe54",
   "metadata": {},
   "outputs": [],
   "source": [
    "ordinal.nunique()"
   ]
  },
  {
   "cell_type": "code",
   "execution_count": null,
   "id": "54b773f3",
   "metadata": {},
   "outputs": [],
   "source": [
    "categoricals = pd.concat([ordinal, encoded_df], axis=1)\n",
    "categoricals.head()"
   ]
  },
  {
   "cell_type": "code",
   "execution_count": null,
   "id": "03b7f80e",
   "metadata": {},
   "outputs": [],
   "source": [
    "X = numericals.join(categoricals)\n",
    "#X.drop('customer_number', axis=1, inplace=True)"
   ]
  },
  {
   "cell_type": "code",
   "execution_count": null,
   "id": "4ebdb3b9",
   "metadata": {},
   "outputs": [],
   "source": [
    "X.head()"
   ]
  },
  {
   "cell_type": "code",
   "execution_count": null,
   "id": "54f1cea9",
   "metadata": {},
   "outputs": [],
   "source": [
    "y.info()"
   ]
  },
  {
   "cell_type": "code",
   "execution_count": null,
   "id": "bde6f775",
   "metadata": {},
   "outputs": [],
   "source": [
    "X"
   ]
  }
 ],
 "metadata": {
  "kernelspec": {
   "display_name": "Python 3 (ipykernel)",
   "language": "python",
   "name": "python3"
  },
  "language_info": {
   "codemirror_mode": {
    "name": "ipython",
    "version": 3
   },
   "file_extension": ".py",
   "mimetype": "text/x-python",
   "name": "python",
   "nbconvert_exporter": "python",
   "pygments_lexer": "ipython3",
   "version": "3.11.2"
  }
 },
 "nbformat": 4,
 "nbformat_minor": 5
}
