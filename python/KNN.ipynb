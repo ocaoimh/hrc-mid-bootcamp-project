{
 "cells": [
  {
   "attachments": {},
   "cell_type": "markdown",
   "metadata": {},
   "source": [
    "# <font color='#6495ED'>k-Nearest Neighbors (kNN) model</font>\n"
   ]
  },
  {
   "attachments": {},
   "cell_type": "markdown",
   "metadata": {},
   "source": [
    "How can a KNN model help us predict which customers will or will not accept a credit card offer?\n"
   ]
  },
  {
   "cell_type": "code",
   "execution_count": 1,
   "metadata": {},
   "outputs": [],
   "source": [
    "\n",
    "\n",
    "#data handling and transformation\n",
    "import pandas as pd\n",
    "import numpy as np\n",
    "\n",
    "# data visualisation \n",
    "import seaborn as sns\n",
    "from matplotlib import pyplot as plt\n",
    "from sklearn.metrics import roc_curve\n",
    "\n",
    "\n",
    "# machine learning metrics and scoring\n",
    "from sklearn import metrics\n",
    "from sklearn.metrics import confusion_matrix\n",
    "from sklearn.metrics import cohen_kappa_score\n",
    "from sklearn.metrics import accuracy_score, precision_score, recall_score, f1_score, roc_auc_score\n",
    "\n",
    "# machine learning models \n",
    "from sklearn.linear_model import LogisticRegression\n",
    "from sklearn.preprocessing import StandardScaler\n",
    "from sklearn.model_selection import train_test_split\n",
    "\n",
    "import warnings\n",
    "\n",
    "warnings.filterwarnings('ignore')\n",
    "\n"
   ]
  },
  {
   "attachments": {},
   "cell_type": "markdown",
   "metadata": {},
   "source": [
    "To do:\n",
    "- either import data already cleaned and subsetted or \n",
    "- add script below\n"
   ]
  },
  {
   "attachments": {},
   "cell_type": "markdown",
   "metadata": {},
   "source": [
    "## <font color='#6495ED'>Training the K-NN model</font>\n"
   ]
  },
  {
   "attachments": {},
   "cell_type": "markdown",
   "metadata": {},
   "source": [
    "How can a KNN model help us predict which customers will or will not accept a credit card offer?\n"
   ]
  },
  {
   "attachments": {},
   "cell_type": "markdown",
   "metadata": {},
   "source": [
    "## Splitting data intro train and test sets."
   ]
  },
  {
   "cell_type": "code",
   "execution_count": null,
   "metadata": {},
   "outputs": [],
   "source": [
    "from sklearn.model_selection import train_test_split\n",
    "\n",
    "X_train, X_test, y_train, y_test = train_test_split(X, y, test_size=0.3, random_state=100)"
   ]
  },
  {
   "attachments": {},
   "cell_type": "markdown",
   "metadata": {},
   "source": [
    "## Getting our predictions"
   ]
  },
  {
   "cell_type": "code",
   "execution_count": null,
   "metadata": {},
   "outputs": [],
   "source": [
    "knn_predictions = knn_model.predict(X_test)\n",
    "print(knn_predictions)"
   ]
  },
  {
   "attachments": {},
   "cell_type": "markdown",
   "metadata": {},
   "source": [
    "## Getting the error metrics of our K-NN model"
   ]
  },
  {
   "cell_type": "code",
   "execution_count": null,
   "metadata": {},
   "outputs": [],
   "source": [
    "from sklearn.metrics import mean_absolute_error, mean_squared_error, r2_score\n",
    "\n",
    "MAE = mean_absolute_error(y_test,knn_predictions)\n",
    "MSE = mean_squared_error(y_test,knn_predictions)\n",
    "RMSE = np.sqrt(MSE)\n",
    "R2 = r2_score(y_test,knn_predictions)\n",
    "\n",
    "print(\"The mean absolute error of the model in the test set is: %6.2f\" % (MAE))\n",
    "print(\"The mean absolute error of the model in the test set is: \" , MAE)\n",
    "print(\"The mean squared error of the model in the test set is: %6.2f\" % (MSE))\n",
    "print(\"The root mean squared error of the model in the test set is: %6.2f\" % (RMSE))\n",
    "print(\"The R2 of the model in the test set is: %4.2f\" % (R2))"
   ]
  },
  {
   "attachments": {},
   "cell_type": "markdown",
   "metadata": {},
   "source": [
    "Plotting R squared"
   ]
  },
  {
   "cell_type": "code",
   "execution_count": null,
   "metadata": {},
   "outputs": [],
   "source": [
    "#sns.scatterplot(y = knn_predictions, x = y_test)\n",
    "\n",
    "\n",
    "\n",
    "# Plot scatter plot\n",
    "sns.scatterplot(x=y_test, y=knn_predictions)\n",
    "plt.xlabel('Actual Values')\n",
    "plt.ylabel('Predicted Values')\n",
    "plt.title('Scatter Plot')\n",
    "\n",
    "# Add R-squared value to plot\n",
    "plt.text(y_test.min(), knn_predictions.max()*0.95, f\"R-squared = {R2:.2f}\")\n",
    "\n",
    "# Show the plot\n",
    "plt.show()"
   ]
  },
  {
   "attachments": {},
   "cell_type": "markdown",
   "metadata": {},
   "source": [
    "# Getting the best K"
   ]
  },
  {
   "attachments": {},
   "cell_type": "markdown",
   "metadata": {},
   "source": [
    "Let's try to find the best K value from a pre-defined set of values."
   ]
  },
  {
   "cell_type": "code",
   "execution_count": null,
   "metadata": {},
   "outputs": [],
   "source": [
    "scores = [] # We will store here the R2 values for each of our K-NN models with different K-values.\n",
    "for i in range(2,10): # The values of K. = 2,3,4,5,6,7,8,9\n",
    "    model = KNeighborsRegressor(n_neighbors=i)\n",
    "    model.fit(X_train, y_train)\n",
    "    scores.append(model.score(X_test, y_test))"
   ]
  },
  {
   "attachments": {},
   "cell_type": "markdown",
   "metadata": {},
   "source": [
    "Now let's plot how it changes the score as a function of K."
   ]
  },
  {
   "cell_type": "code",
   "execution_count": null,
   "metadata": {},
   "outputs": [],
   "source": [
    "plt.figure(figsize=(10,6))\n",
    "plt.plot(range(2,10), scores, color = 'blue', linestyle='dashed',\n",
    "         marker='o', markerfacecolor='red', markersize=10)\n",
    "plt.title('R2 vs. K Value')\n",
    "plt.xlabel('K')\n",
    "plt.ylabel('R2')\n",
    "\n",
    "#threshold = 0.01 # minimum difference we want between two R2 consecutive values.\n",
    "#delta = 10. # difference between two consecutive R2 values.\n",
    "#k = 3 # initival value\n",
    "#old_score = 0.\n",
    "\n",
    "#while (delta >= threshold):\n",
    "#  knn_model = KNeighborsRegressor(n_neighbors=k) # The keyword \"n_neighbors\" is what sets the K.\n",
    "#  knn_model.fit(X_train, y_train)\n",
    "#  knn_predictions = knn_model.predict(X_test) \n",
    "#  new_score = r2_score(y_test,knn_predictions)\n",
    "#  delta = new_score - old_score\n",
    "#  k = k + 4 \n",
    "#  old_score = new_score"
   ]
  }
 ],
 "metadata": {
  "kernelspec": {
   "display_name": "Python 3",
   "language": "python",
   "name": "python3"
  },
  "language_info": {
   "codemirror_mode": {
    "name": "ipython",
    "version": 3
   },
   "file_extension": ".py",
   "mimetype": "text/x-python",
   "name": "python",
   "nbconvert_exporter": "python",
   "pygments_lexer": "ipython3",
   "version": "3.11.1"
  },
  "orig_nbformat": 4
 },
 "nbformat": 4,
 "nbformat_minor": 2
}
