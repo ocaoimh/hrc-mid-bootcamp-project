{
 "cells": [
  {
   "attachments": {},
   "cell_type": "markdown",
   "metadata": {},
   "source": [
    "# Decision Tree"
   ]
  },
  {
   "attachments": {},
   "cell_type": "markdown",
   "metadata": {},
   "source": [
    "## Import Libraries"
   ]
  },
  {
   "cell_type": "code",
   "execution_count": 575,
   "metadata": {},
   "outputs": [],
   "source": [
    "import pandas as pd\n",
    "import numpy as np\n",
    "import scipy.stats as stats\n",
    "import matplotlib.pyplot as plt\n",
    "import seaborn as sns\n",
    "%matplotlib inline\n",
    "\n",
    "# classification model\n",
    "from sklearn.preprocessing import StandardScaler\n",
    "from sklearn.model_selection import train_test_split\n",
    "from sklearn.tree import DecisionTreeClassifier\n",
    "\n",
    "#feature importance\n",
    "from sklearn.inspection import permutation_importance\n",
    "\n",
    "# metrics\n",
    "from sklearn.metrics import confusion_matrix, cohen_kappa_score, accuracy_score, precision_score, recall_score, f1_score, roc_auc_score, roc_curve"
   ]
  },
  {
   "attachments": {},
   "cell_type": "markdown",
   "metadata": {},
   "source": [
    "## Functions"
   ]
  },
  {
   "attachments": {},
   "cell_type": "markdown",
   "metadata": {},
   "source": [
    "Here we have some functions created to facilitate the modeling phase:"
   ]
  },
  {
   "cell_type": "code",
   "execution_count": 576,
   "metadata": {},
   "outputs": [],
   "source": [
    "def xy_split(X,y):\n",
    "    X_train, X_test, y_train, y_test = train_test_split(X, y, test_size=0.3, random_state=100)\n",
    "    return X_train, X_test, y_train, y_test"
   ]
  },
  {
   "attachments": {},
   "cell_type": "markdown",
   "metadata": {},
   "source": [
    "### Model Performance"
   ]
  },
  {
   "cell_type": "code",
   "execution_count": 577,
   "metadata": {},
   "outputs": [],
   "source": [
    "def metrics_class(actual, predicted):\n",
    "    kappa = cohen_kappa_score(actual, predicted)\n",
    "    accuracy = accuracy_score(actual, predicted)\n",
    "    precision = precision_score(actual, predicted)\n",
    "    recall = recall_score(actual, predicted)\n",
    "    f1 = f1_score(actual, predicted)\n",
    "    auc_score = roc_auc_score(actual, predicted)\n",
    "    \n",
    "    index = ['Cohen Kappa Score', 'Accuracy', 'Precision', 'Recall', 'F1', 'AUC Score']\n",
    "    metrics = pd.Series([kappa, accuracy, precision, recall, f1, auc_score], index=index)\n",
    "    return metrics.round(2)"
   ]
  },
  {
   "cell_type": "code",
   "execution_count": 578,
   "metadata": {},
   "outputs": [],
   "source": [
    "def plot_cm(actual, prediction):\n",
    "    cm = confusion_matrix(actual, prediction)\n",
    "    # Visualize confusion matrix\n",
    "    fig, ax = plt.subplots(figsize=(8, 6))\n",
    "    sns.heatmap(cm, annot=True, cmap='Set2_r', fmt='g', ax=ax)\n",
    "\n",
    "    # Set axis labels and title\n",
    "    ax.set_xlabel('Predicted labels')\n",
    "    ax.set_ylabel('True labels')\n",
    "    ax.set_title('Confusion Matrix')\n",
    "    plt.tight_layout()\n",
    "\n"
   ]
  },
  {
   "attachments": {},
   "cell_type": "markdown",
   "metadata": {},
   "source": [
    "### Feature Importance"
   ]
  },
  {
   "cell_type": "code",
   "execution_count": 579,
   "metadata": {},
   "outputs": [],
   "source": [
    "def importance(model, X):\n",
    "    importances = pd.DataFrame(data=model.feature_importances_,\n",
    "                        index= X.columns)\n",
    "    importances_sorted = importances.iloc[:,0].sort_values(ascending=False).round(3)\n",
    "    return importances_sorted"
   ]
  },
  {
   "cell_type": "code",
   "execution_count": 580,
   "metadata": {},
   "outputs": [],
   "source": [
    "def plot_importance(list):\n",
    "    plt.figure(figsize=(18,8))\n",
    "    plt.suptitle('Feature Importance Scores', y=0.95)\n",
    "    plot = sns.barplot(x = list, y = list.index)\n",
    "    return plot"
   ]
  },
  {
   "cell_type": "code",
   "execution_count": 581,
   "metadata": {},
   "outputs": [],
   "source": [
    "def perm_importance(model, X, y):\n",
    "    #train-test split\n",
    "    X_train, X_test, y_train, y_test = train_test_split(X, y, test_size=0.3, random_state=100)\n",
    "    \n",
    "    train_result = permutation_importance(\n",
    "        model, X_train, y_train, n_repeats=10, random_state=1, n_jobs=2\n",
    "    )\n",
    "    test_results = permutation_importance(\n",
    "        model, X_test, y_test, n_repeats=10, random_state=1, n_jobs=2\n",
    "    )\n",
    "    sorted_importances_idx = train_result.importances_mean.argsort()[::-1]\n",
    "    train_importances = pd.DataFrame(\n",
    "        train_result.importances[sorted_importances_idx].T,\n",
    "        columns=X.columns[sorted_importances_idx],\n",
    "    )\n",
    "    test_importances = pd.DataFrame(\n",
    "        test_results.importances[sorted_importances_idx].T,\n",
    "        columns=X.columns[sorted_importances_idx],\n",
    "    )\n",
    "    return train_importances, test_importances"
   ]
  },
  {
   "cell_type": "code",
   "execution_count": 582,
   "metadata": {},
   "outputs": [],
   "source": [
    "def plot_perm_impt(train_impt, test_impt):\n",
    "    fig = plt.figure(figsize = (14,7))\n",
    "    plt.suptitle(\"Permutation Importances\", fontsize = 14, y=1)\n",
    "\n",
    "    #  subplot #1\n",
    "    plt.subplot(121)\n",
    "    plt.title('Train Set')\n",
    "    plt.xlabel(\"Decrease in accuracy score\")\n",
    "    ax = sns.boxplot(train_impt, orient='h', whis=10)\n",
    "    ax.axvline(x=0, color=\"k\", linestyle=\"--\")\n",
    "    \n",
    "    #  subplot #2\n",
    "    plt.subplot(122)\n",
    "    plt.title('Test Set')\n",
    "    plt.xlabel(\"Decrease in accuracy score\")\n",
    "    ax = sns.boxplot(test_impt, orient='h', whis=10)\n",
    "    ax.axvline(x=0, color=\"k\", linestyle=\"--\")\n",
    "    \n",
    "    plt.tight_layout()\n",
    "    plt.show()"
   ]
  },
  {
   "attachments": {},
   "cell_type": "markdown",
   "metadata": {},
   "source": [
    "## Models"
   ]
  },
  {
   "cell_type": "code",
   "execution_count": 583,
   "metadata": {},
   "outputs": [],
   "source": [
    "dt = DecisionTreeClassifier(criterion='gini', random_state=1)\n",
    "dt_entropy = DecisionTreeClassifier(criterion='entropy', random_state=1)"
   ]
  },
  {
   "attachments": {},
   "cell_type": "markdown",
   "metadata": {},
   "source": [
    "> **Note:** We will be using both gini index and entropy-based models to compare the difference between them in terms of model performance and results."
   ]
  },
  {
   "attachments": {},
   "cell_type": "markdown",
   "metadata": {},
   "source": [
    "## Load Datasets"
   ]
  },
  {
   "attachments": {},
   "cell_type": "markdown",
   "metadata": {},
   "source": [
    "### Original Dataset"
   ]
  },
  {
   "cell_type": "code",
   "execution_count": 584,
   "metadata": {},
   "outputs": [
    {
     "data": {
      "text/html": [
       "<div>\n",
       "<style scoped>\n",
       "    .dataframe tbody tr th:only-of-type {\n",
       "        vertical-align: middle;\n",
       "    }\n",
       "\n",
       "    .dataframe tbody tr th {\n",
       "        vertical-align: top;\n",
       "    }\n",
       "\n",
       "    .dataframe thead th {\n",
       "        text-align: right;\n",
       "    }\n",
       "</style>\n",
       "<table border=\"1\" class=\"dataframe\">\n",
       "  <thead>\n",
       "    <tr style=\"text-align: right;\">\n",
       "      <th></th>\n",
       "      <th>bank_accounts_open</th>\n",
       "      <th>credit_cards_held</th>\n",
       "      <th>homes_owned</th>\n",
       "      <th>household_size</th>\n",
       "      <th>average_balance</th>\n",
       "      <th>q1_balance</th>\n",
       "      <th>q2_balance</th>\n",
       "      <th>q3_balance</th>\n",
       "      <th>q4_balance</th>\n",
       "      <th>income_level</th>\n",
       "      <th>credit_rating</th>\n",
       "      <th>reward_Air Miles</th>\n",
       "      <th>reward_Cash Back</th>\n",
       "      <th>reward_Points</th>\n",
       "      <th>mailer_type_Letter</th>\n",
       "      <th>mailer_type_Postcard</th>\n",
       "      <th>overdraft_protection_No</th>\n",
       "      <th>overdraft_protection_Yes</th>\n",
       "      <th>own_your_home_No</th>\n",
       "      <th>own_your_home_Yes</th>\n",
       "    </tr>\n",
       "  </thead>\n",
       "  <tbody>\n",
       "    <tr>\n",
       "      <th>0</th>\n",
       "      <td>1</td>\n",
       "      <td>2</td>\n",
       "      <td>1</td>\n",
       "      <td>4</td>\n",
       "      <td>1160.75</td>\n",
       "      <td>1669.0</td>\n",
       "      <td>877.0</td>\n",
       "      <td>1095.0</td>\n",
       "      <td>1002.0</td>\n",
       "      <td>2</td>\n",
       "      <td>2</td>\n",
       "      <td>1</td>\n",
       "      <td>0</td>\n",
       "      <td>0</td>\n",
       "      <td>1</td>\n",
       "      <td>0</td>\n",
       "      <td>1</td>\n",
       "      <td>0</td>\n",
       "      <td>1</td>\n",
       "      <td>0</td>\n",
       "    </tr>\n",
       "    <tr>\n",
       "      <th>1</th>\n",
       "      <td>1</td>\n",
       "      <td>2</td>\n",
       "      <td>2</td>\n",
       "      <td>5</td>\n",
       "      <td>147.25</td>\n",
       "      <td>39.0</td>\n",
       "      <td>106.0</td>\n",
       "      <td>78.0</td>\n",
       "      <td>366.0</td>\n",
       "      <td>1</td>\n",
       "      <td>1</td>\n",
       "      <td>1</td>\n",
       "      <td>0</td>\n",
       "      <td>0</td>\n",
       "      <td>1</td>\n",
       "      <td>0</td>\n",
       "      <td>1</td>\n",
       "      <td>0</td>\n",
       "      <td>0</td>\n",
       "      <td>1</td>\n",
       "    </tr>\n",
       "    <tr>\n",
       "      <th>2</th>\n",
       "      <td>2</td>\n",
       "      <td>2</td>\n",
       "      <td>1</td>\n",
       "      <td>2</td>\n",
       "      <td>276.50</td>\n",
       "      <td>367.0</td>\n",
       "      <td>352.0</td>\n",
       "      <td>145.0</td>\n",
       "      <td>242.0</td>\n",
       "      <td>2</td>\n",
       "      <td>1</td>\n",
       "      <td>1</td>\n",
       "      <td>0</td>\n",
       "      <td>0</td>\n",
       "      <td>0</td>\n",
       "      <td>1</td>\n",
       "      <td>1</td>\n",
       "      <td>0</td>\n",
       "      <td>0</td>\n",
       "      <td>1</td>\n",
       "    </tr>\n",
       "    <tr>\n",
       "      <th>3</th>\n",
       "      <td>2</td>\n",
       "      <td>1</td>\n",
       "      <td>1</td>\n",
       "      <td>4</td>\n",
       "      <td>1219.00</td>\n",
       "      <td>1578.0</td>\n",
       "      <td>1760.0</td>\n",
       "      <td>1119.0</td>\n",
       "      <td>419.0</td>\n",
       "      <td>1</td>\n",
       "      <td>2</td>\n",
       "      <td>1</td>\n",
       "      <td>0</td>\n",
       "      <td>0</td>\n",
       "      <td>1</td>\n",
       "      <td>0</td>\n",
       "      <td>1</td>\n",
       "      <td>0</td>\n",
       "      <td>1</td>\n",
       "      <td>0</td>\n",
       "    </tr>\n",
       "    <tr>\n",
       "      <th>4</th>\n",
       "      <td>1</td>\n",
       "      <td>2</td>\n",
       "      <td>1</td>\n",
       "      <td>6</td>\n",
       "      <td>1211.00</td>\n",
       "      <td>2140.0</td>\n",
       "      <td>1357.0</td>\n",
       "      <td>982.0</td>\n",
       "      <td>365.0</td>\n",
       "      <td>1</td>\n",
       "      <td>1</td>\n",
       "      <td>1</td>\n",
       "      <td>0</td>\n",
       "      <td>0</td>\n",
       "      <td>1</td>\n",
       "      <td>0</td>\n",
       "      <td>1</td>\n",
       "      <td>0</td>\n",
       "      <td>0</td>\n",
       "      <td>1</td>\n",
       "    </tr>\n",
       "  </tbody>\n",
       "</table>\n",
       "</div>"
      ],
      "text/plain": [
       "   bank_accounts_open  credit_cards_held  homes_owned  household_size   \n",
       "0                   1                  2            1               4  \\\n",
       "1                   1                  2            2               5   \n",
       "2                   2                  2            1               2   \n",
       "3                   2                  1            1               4   \n",
       "4                   1                  2            1               6   \n",
       "\n",
       "   average_balance  q1_balance  q2_balance  q3_balance  q4_balance   \n",
       "0          1160.75      1669.0       877.0      1095.0      1002.0  \\\n",
       "1           147.25        39.0       106.0        78.0       366.0   \n",
       "2           276.50       367.0       352.0       145.0       242.0   \n",
       "3          1219.00      1578.0      1760.0      1119.0       419.0   \n",
       "4          1211.00      2140.0      1357.0       982.0       365.0   \n",
       "\n",
       "   income_level  credit_rating  reward_Air Miles  reward_Cash Back   \n",
       "0             2              2                 1                 0  \\\n",
       "1             1              1                 1                 0   \n",
       "2             2              1                 1                 0   \n",
       "3             1              2                 1                 0   \n",
       "4             1              1                 1                 0   \n",
       "\n",
       "   reward_Points  mailer_type_Letter  mailer_type_Postcard   \n",
       "0              0                   1                     0  \\\n",
       "1              0                   1                     0   \n",
       "2              0                   0                     1   \n",
       "3              0                   1                     0   \n",
       "4              0                   1                     0   \n",
       "\n",
       "   overdraft_protection_No  overdraft_protection_Yes  own_your_home_No   \n",
       "0                        1                         0                 1  \\\n",
       "1                        1                         0                 0   \n",
       "2                        1                         0                 0   \n",
       "3                        1                         0                 1   \n",
       "4                        1                         0                 0   \n",
       "\n",
       "   own_your_home_Yes  \n",
       "0                  0  \n",
       "1                  1  \n",
       "2                  1  \n",
       "3                  0  \n",
       "4                  1  "
      ]
     },
     "execution_count": 584,
     "metadata": {},
     "output_type": "execute_result"
    }
   ],
   "source": [
    "X = df = pd.read_csv(r'./../data/X.csv')\n",
    "X.head()"
   ]
  },
  {
   "cell_type": "code",
   "execution_count": 585,
   "metadata": {},
   "outputs": [
    {
     "data": {
      "text/plain": [
       "(17976, 20)"
      ]
     },
     "execution_count": 585,
     "metadata": {},
     "output_type": "execute_result"
    }
   ],
   "source": [
    "X.shape"
   ]
  },
  {
   "cell_type": "code",
   "execution_count": 586,
   "metadata": {},
   "outputs": [
    {
     "data": {
      "text/html": [
       "<div>\n",
       "<style scoped>\n",
       "    .dataframe tbody tr th:only-of-type {\n",
       "        vertical-align: middle;\n",
       "    }\n",
       "\n",
       "    .dataframe tbody tr th {\n",
       "        vertical-align: top;\n",
       "    }\n",
       "\n",
       "    .dataframe thead th {\n",
       "        text-align: right;\n",
       "    }\n",
       "</style>\n",
       "<table border=\"1\" class=\"dataframe\">\n",
       "  <thead>\n",
       "    <tr style=\"text-align: right;\">\n",
       "      <th></th>\n",
       "      <th>offer_accepted</th>\n",
       "    </tr>\n",
       "  </thead>\n",
       "  <tbody>\n",
       "    <tr>\n",
       "      <th>0</th>\n",
       "      <td>No</td>\n",
       "    </tr>\n",
       "    <tr>\n",
       "      <th>1</th>\n",
       "      <td>No</td>\n",
       "    </tr>\n",
       "    <tr>\n",
       "      <th>2</th>\n",
       "      <td>No</td>\n",
       "    </tr>\n",
       "    <tr>\n",
       "      <th>3</th>\n",
       "      <td>No</td>\n",
       "    </tr>\n",
       "    <tr>\n",
       "      <th>4</th>\n",
       "      <td>No</td>\n",
       "    </tr>\n",
       "  </tbody>\n",
       "</table>\n",
       "</div>"
      ],
      "text/plain": [
       "  offer_accepted\n",
       "0             No\n",
       "1             No\n",
       "2             No\n",
       "3             No\n",
       "4             No"
      ]
     },
     "execution_count": 586,
     "metadata": {},
     "output_type": "execute_result"
    }
   ],
   "source": [
    "y = df = pd.read_csv(r'./../data/y.csv')\n",
    "y.head()"
   ]
  },
  {
   "cell_type": "code",
   "execution_count": 587,
   "metadata": {},
   "outputs": [
    {
     "data": {
      "text/plain": [
       "array(['No', 'Yes'], dtype=object)"
      ]
     },
     "execution_count": 587,
     "metadata": {},
     "output_type": "execute_result"
    }
   ],
   "source": [
    "y_int = pd.Series(y.offer_accepted)\n",
    "y_int.unique()"
   ]
  },
  {
   "cell_type": "code",
   "execution_count": 588,
   "metadata": {},
   "outputs": [
    {
     "data": {
      "text/plain": [
       "0        0\n",
       "1        0\n",
       "2        0\n",
       "3        0\n",
       "4        0\n",
       "        ..\n",
       "17971    0\n",
       "17972    0\n",
       "17973    0\n",
       "17974    0\n",
       "17975    0\n",
       "Name: offer_accepted, Length: 17976, dtype: int64"
      ]
     },
     "execution_count": 588,
     "metadata": {},
     "output_type": "execute_result"
    }
   ],
   "source": [
    "y_int = y_int.apply(lambda x: 0 if x == 'No' else 1)\n",
    "y_int"
   ]
  },
  {
   "cell_type": "code",
   "execution_count": 589,
   "metadata": {},
   "outputs": [
    {
     "data": {
      "text/plain": [
       "offer_accepted\n",
       "0    16955\n",
       "1     1021\n",
       "Name: count, dtype: int64"
      ]
     },
     "execution_count": 589,
     "metadata": {},
     "output_type": "execute_result"
    }
   ],
   "source": [
    "y_int.value_counts()"
   ]
  },
  {
   "cell_type": "code",
   "execution_count": 590,
   "metadata": {},
   "outputs": [
    {
     "data": {
      "text/html": [
       "<div>\n",
       "<style scoped>\n",
       "    .dataframe tbody tr th:only-of-type {\n",
       "        vertical-align: middle;\n",
       "    }\n",
       "\n",
       "    .dataframe tbody tr th {\n",
       "        vertical-align: top;\n",
       "    }\n",
       "\n",
       "    .dataframe thead th {\n",
       "        text-align: right;\n",
       "    }\n",
       "</style>\n",
       "<table border=\"1\" class=\"dataframe\">\n",
       "  <thead>\n",
       "    <tr style=\"text-align: right;\">\n",
       "      <th></th>\n",
       "      <th>bank_accounts_open</th>\n",
       "      <th>credit_cards_held</th>\n",
       "      <th>homes_owned</th>\n",
       "      <th>household_size</th>\n",
       "      <th>average_balance</th>\n",
       "      <th>q1_balance</th>\n",
       "      <th>q2_balance</th>\n",
       "      <th>q3_balance</th>\n",
       "      <th>q4_balance</th>\n",
       "      <th>income_level</th>\n",
       "      <th>credit_rating</th>\n",
       "      <th>reward_Air Miles</th>\n",
       "      <th>reward_Cash Back</th>\n",
       "      <th>reward_Points</th>\n",
       "      <th>mailer_type_Letter</th>\n",
       "      <th>mailer_type_Postcard</th>\n",
       "      <th>overdraft_protection_No</th>\n",
       "      <th>overdraft_protection_Yes</th>\n",
       "      <th>own_your_home_No</th>\n",
       "      <th>own_your_home_Yes</th>\n",
       "    </tr>\n",
       "  </thead>\n",
       "  <tbody>\n",
       "    <tr>\n",
       "      <th>0</th>\n",
       "      <td>-0.541352</td>\n",
       "      <td>0.121161</td>\n",
       "      <td>-0.476212</td>\n",
       "      <td>0.449452</td>\n",
       "      <td>0.628724</td>\n",
       "      <td>1.223349</td>\n",
       "      <td>-0.267589</td>\n",
       "      <td>0.095704</td>\n",
       "      <td>0.343147</td>\n",
       "      <td>1.410295</td>\n",
       "      <td>1.215460</td>\n",
       "      <td>1.404533</td>\n",
       "      <td>-0.707372</td>\n",
       "      <td>-0.70198</td>\n",
       "      <td>1.016378</td>\n",
       "      <td>-1.016378</td>\n",
       "      <td>0.418213</td>\n",
       "      <td>-0.418213</td>\n",
       "      <td>1.354744</td>\n",
       "      <td>-1.354744</td>\n",
       "    </tr>\n",
       "    <tr>\n",
       "      <th>1</th>\n",
       "      <td>-0.541352</td>\n",
       "      <td>0.121161</td>\n",
       "      <td>1.863330</td>\n",
       "      <td>1.346760</td>\n",
       "      <td>-2.264609</td>\n",
       "      <td>-1.405430</td>\n",
       "      <td>-1.953241</td>\n",
       "      <td>-1.741902</td>\n",
       "      <td>-0.794628</td>\n",
       "      <td>-0.005039</td>\n",
       "      <td>-0.007894</td>\n",
       "      <td>1.404533</td>\n",
       "      <td>-0.707372</td>\n",
       "      <td>-0.70198</td>\n",
       "      <td>1.016378</td>\n",
       "      <td>-1.016378</td>\n",
       "      <td>0.418213</td>\n",
       "      <td>-0.418213</td>\n",
       "      <td>-0.738147</td>\n",
       "      <td>0.738147</td>\n",
       "    </tr>\n",
       "    <tr>\n",
       "      <th>2</th>\n",
       "      <td>1.575537</td>\n",
       "      <td>0.121161</td>\n",
       "      <td>-0.476212</td>\n",
       "      <td>-1.345162</td>\n",
       "      <td>-1.895627</td>\n",
       "      <td>-0.876449</td>\n",
       "      <td>-1.415407</td>\n",
       "      <td>-1.620841</td>\n",
       "      <td>-1.016458</td>\n",
       "      <td>1.410295</td>\n",
       "      <td>-0.007894</td>\n",
       "      <td>1.404533</td>\n",
       "      <td>-0.707372</td>\n",
       "      <td>-0.70198</td>\n",
       "      <td>-0.983886</td>\n",
       "      <td>0.983886</td>\n",
       "      <td>0.418213</td>\n",
       "      <td>-0.418213</td>\n",
       "      <td>-0.738147</td>\n",
       "      <td>0.738147</td>\n",
       "    </tr>\n",
       "    <tr>\n",
       "      <th>3</th>\n",
       "      <td>1.575537</td>\n",
       "      <td>-1.133443</td>\n",
       "      <td>-0.476212</td>\n",
       "      <td>0.449452</td>\n",
       "      <td>0.795015</td>\n",
       "      <td>1.076589</td>\n",
       "      <td>1.662932</td>\n",
       "      <td>0.139070</td>\n",
       "      <td>-0.699813</td>\n",
       "      <td>-0.005039</td>\n",
       "      <td>1.215460</td>\n",
       "      <td>1.404533</td>\n",
       "      <td>-0.707372</td>\n",
       "      <td>-0.70198</td>\n",
       "      <td>1.016378</td>\n",
       "      <td>-1.016378</td>\n",
       "      <td>0.418213</td>\n",
       "      <td>-0.418213</td>\n",
       "      <td>1.354744</td>\n",
       "      <td>-1.354744</td>\n",
       "    </tr>\n",
       "    <tr>\n",
       "      <th>4</th>\n",
       "      <td>-0.541352</td>\n",
       "      <td>0.121161</td>\n",
       "      <td>-0.476212</td>\n",
       "      <td>2.244067</td>\n",
       "      <td>0.772177</td>\n",
       "      <td>1.982953</td>\n",
       "      <td>0.781845</td>\n",
       "      <td>-0.108474</td>\n",
       "      <td>-0.796417</td>\n",
       "      <td>-0.005039</td>\n",
       "      <td>-0.007894</td>\n",
       "      <td>1.404533</td>\n",
       "      <td>-0.707372</td>\n",
       "      <td>-0.70198</td>\n",
       "      <td>1.016378</td>\n",
       "      <td>-1.016378</td>\n",
       "      <td>0.418213</td>\n",
       "      <td>-0.418213</td>\n",
       "      <td>-0.738147</td>\n",
       "      <td>0.738147</td>\n",
       "    </tr>\n",
       "  </tbody>\n",
       "</table>\n",
       "</div>"
      ],
      "text/plain": [
       "   bank_accounts_open  credit_cards_held  homes_owned  household_size   \n",
       "0           -0.541352           0.121161    -0.476212        0.449452  \\\n",
       "1           -0.541352           0.121161     1.863330        1.346760   \n",
       "2            1.575537           0.121161    -0.476212       -1.345162   \n",
       "3            1.575537          -1.133443    -0.476212        0.449452   \n",
       "4           -0.541352           0.121161    -0.476212        2.244067   \n",
       "\n",
       "   average_balance  q1_balance  q2_balance  q3_balance  q4_balance   \n",
       "0         0.628724    1.223349   -0.267589    0.095704    0.343147  \\\n",
       "1        -2.264609   -1.405430   -1.953241   -1.741902   -0.794628   \n",
       "2        -1.895627   -0.876449   -1.415407   -1.620841   -1.016458   \n",
       "3         0.795015    1.076589    1.662932    0.139070   -0.699813   \n",
       "4         0.772177    1.982953    0.781845   -0.108474   -0.796417   \n",
       "\n",
       "   income_level  credit_rating  reward_Air Miles  reward_Cash Back   \n",
       "0      1.410295       1.215460          1.404533         -0.707372  \\\n",
       "1     -0.005039      -0.007894          1.404533         -0.707372   \n",
       "2      1.410295      -0.007894          1.404533         -0.707372   \n",
       "3     -0.005039       1.215460          1.404533         -0.707372   \n",
       "4     -0.005039      -0.007894          1.404533         -0.707372   \n",
       "\n",
       "   reward_Points  mailer_type_Letter  mailer_type_Postcard   \n",
       "0       -0.70198            1.016378             -1.016378  \\\n",
       "1       -0.70198            1.016378             -1.016378   \n",
       "2       -0.70198           -0.983886              0.983886   \n",
       "3       -0.70198            1.016378             -1.016378   \n",
       "4       -0.70198            1.016378             -1.016378   \n",
       "\n",
       "   overdraft_protection_No  overdraft_protection_Yes  own_your_home_No   \n",
       "0                 0.418213                 -0.418213          1.354744  \\\n",
       "1                 0.418213                 -0.418213         -0.738147   \n",
       "2                 0.418213                 -0.418213         -0.738147   \n",
       "3                 0.418213                 -0.418213          1.354744   \n",
       "4                 0.418213                 -0.418213         -0.738147   \n",
       "\n",
       "   own_your_home_Yes  \n",
       "0          -1.354744  \n",
       "1           0.738147  \n",
       "2           0.738147  \n",
       "3          -1.354744  \n",
       "4           0.738147  "
      ]
     },
     "execution_count": 590,
     "metadata": {},
     "output_type": "execute_result"
    }
   ],
   "source": [
    "# Apply Transformation on X\n",
    "independents = X.copy() # make a separate df to preserve the column headers\n",
    "\n",
    "transformer = StandardScaler().fit(independents)\n",
    "standard_x = transformer.transform(independents)\n",
    "X = pd.DataFrame(standard_x)\n",
    "X.columns = independents.columns # put the column headers back\n",
    "X.head()"
   ]
  },
  {
   "attachments": {},
   "cell_type": "markdown",
   "metadata": {},
   "source": [
    "#### X Variation: Remove 4 columns of Quarter Balances"
   ]
  },
  {
   "cell_type": "code",
   "execution_count": 591,
   "metadata": {},
   "outputs": [
    {
     "data": {
      "text/html": [
       "<div>\n",
       "<style scoped>\n",
       "    .dataframe tbody tr th:only-of-type {\n",
       "        vertical-align: middle;\n",
       "    }\n",
       "\n",
       "    .dataframe tbody tr th {\n",
       "        vertical-align: top;\n",
       "    }\n",
       "\n",
       "    .dataframe thead th {\n",
       "        text-align: right;\n",
       "    }\n",
       "</style>\n",
       "<table border=\"1\" class=\"dataframe\">\n",
       "  <thead>\n",
       "    <tr style=\"text-align: right;\">\n",
       "      <th></th>\n",
       "      <th>bank_accounts_open</th>\n",
       "      <th>credit_cards_held</th>\n",
       "      <th>homes_owned</th>\n",
       "      <th>household_size</th>\n",
       "      <th>average_balance</th>\n",
       "      <th>income_level</th>\n",
       "      <th>credit_rating</th>\n",
       "      <th>reward_Air Miles</th>\n",
       "      <th>reward_Cash Back</th>\n",
       "      <th>reward_Points</th>\n",
       "      <th>mailer_type_Letter</th>\n",
       "      <th>mailer_type_Postcard</th>\n",
       "      <th>overdraft_protection_No</th>\n",
       "      <th>overdraft_protection_Yes</th>\n",
       "      <th>own_your_home_No</th>\n",
       "      <th>own_your_home_Yes</th>\n",
       "    </tr>\n",
       "  </thead>\n",
       "  <tbody>\n",
       "    <tr>\n",
       "      <th>0</th>\n",
       "      <td>-0.541352</td>\n",
       "      <td>0.121161</td>\n",
       "      <td>-0.476212</td>\n",
       "      <td>0.449452</td>\n",
       "      <td>0.628724</td>\n",
       "      <td>1.410295</td>\n",
       "      <td>1.215460</td>\n",
       "      <td>1.404533</td>\n",
       "      <td>-0.707372</td>\n",
       "      <td>-0.70198</td>\n",
       "      <td>1.016378</td>\n",
       "      <td>-1.016378</td>\n",
       "      <td>0.418213</td>\n",
       "      <td>-0.418213</td>\n",
       "      <td>1.354744</td>\n",
       "      <td>-1.354744</td>\n",
       "    </tr>\n",
       "    <tr>\n",
       "      <th>1</th>\n",
       "      <td>-0.541352</td>\n",
       "      <td>0.121161</td>\n",
       "      <td>1.863330</td>\n",
       "      <td>1.346760</td>\n",
       "      <td>-2.264609</td>\n",
       "      <td>-0.005039</td>\n",
       "      <td>-0.007894</td>\n",
       "      <td>1.404533</td>\n",
       "      <td>-0.707372</td>\n",
       "      <td>-0.70198</td>\n",
       "      <td>1.016378</td>\n",
       "      <td>-1.016378</td>\n",
       "      <td>0.418213</td>\n",
       "      <td>-0.418213</td>\n",
       "      <td>-0.738147</td>\n",
       "      <td>0.738147</td>\n",
       "    </tr>\n",
       "    <tr>\n",
       "      <th>2</th>\n",
       "      <td>1.575537</td>\n",
       "      <td>0.121161</td>\n",
       "      <td>-0.476212</td>\n",
       "      <td>-1.345162</td>\n",
       "      <td>-1.895627</td>\n",
       "      <td>1.410295</td>\n",
       "      <td>-0.007894</td>\n",
       "      <td>1.404533</td>\n",
       "      <td>-0.707372</td>\n",
       "      <td>-0.70198</td>\n",
       "      <td>-0.983886</td>\n",
       "      <td>0.983886</td>\n",
       "      <td>0.418213</td>\n",
       "      <td>-0.418213</td>\n",
       "      <td>-0.738147</td>\n",
       "      <td>0.738147</td>\n",
       "    </tr>\n",
       "    <tr>\n",
       "      <th>3</th>\n",
       "      <td>1.575537</td>\n",
       "      <td>-1.133443</td>\n",
       "      <td>-0.476212</td>\n",
       "      <td>0.449452</td>\n",
       "      <td>0.795015</td>\n",
       "      <td>-0.005039</td>\n",
       "      <td>1.215460</td>\n",
       "      <td>1.404533</td>\n",
       "      <td>-0.707372</td>\n",
       "      <td>-0.70198</td>\n",
       "      <td>1.016378</td>\n",
       "      <td>-1.016378</td>\n",
       "      <td>0.418213</td>\n",
       "      <td>-0.418213</td>\n",
       "      <td>1.354744</td>\n",
       "      <td>-1.354744</td>\n",
       "    </tr>\n",
       "    <tr>\n",
       "      <th>4</th>\n",
       "      <td>-0.541352</td>\n",
       "      <td>0.121161</td>\n",
       "      <td>-0.476212</td>\n",
       "      <td>2.244067</td>\n",
       "      <td>0.772177</td>\n",
       "      <td>-0.005039</td>\n",
       "      <td>-0.007894</td>\n",
       "      <td>1.404533</td>\n",
       "      <td>-0.707372</td>\n",
       "      <td>-0.70198</td>\n",
       "      <td>1.016378</td>\n",
       "      <td>-1.016378</td>\n",
       "      <td>0.418213</td>\n",
       "      <td>-0.418213</td>\n",
       "      <td>-0.738147</td>\n",
       "      <td>0.738147</td>\n",
       "    </tr>\n",
       "    <tr>\n",
       "      <th>...</th>\n",
       "      <td>...</td>\n",
       "      <td>...</td>\n",
       "      <td>...</td>\n",
       "      <td>...</td>\n",
       "      <td>...</td>\n",
       "      <td>...</td>\n",
       "      <td>...</td>\n",
       "      <td>...</td>\n",
       "      <td>...</td>\n",
       "      <td>...</td>\n",
       "      <td>...</td>\n",
       "      <td>...</td>\n",
       "      <td>...</td>\n",
       "      <td>...</td>\n",
       "      <td>...</td>\n",
       "      <td>...</td>\n",
       "    </tr>\n",
       "    <tr>\n",
       "      <th>17971</th>\n",
       "      <td>-0.541352</td>\n",
       "      <td>-1.133443</td>\n",
       "      <td>-0.476212</td>\n",
       "      <td>1.346760</td>\n",
       "      <td>-2.206799</td>\n",
       "      <td>1.410295</td>\n",
       "      <td>-1.231249</td>\n",
       "      <td>-0.711980</td>\n",
       "      <td>1.413683</td>\n",
       "      <td>-0.70198</td>\n",
       "      <td>1.016378</td>\n",
       "      <td>-1.016378</td>\n",
       "      <td>0.418213</td>\n",
       "      <td>-0.418213</td>\n",
       "      <td>-0.738147</td>\n",
       "      <td>0.738147</td>\n",
       "    </tr>\n",
       "    <tr>\n",
       "      <th>17972</th>\n",
       "      <td>-0.541352</td>\n",
       "      <td>1.375766</td>\n",
       "      <td>-0.476212</td>\n",
       "      <td>-0.447855</td>\n",
       "      <td>-0.256976</td>\n",
       "      <td>1.410295</td>\n",
       "      <td>-1.231249</td>\n",
       "      <td>-0.711980</td>\n",
       "      <td>1.413683</td>\n",
       "      <td>-0.70198</td>\n",
       "      <td>1.016378</td>\n",
       "      <td>-1.016378</td>\n",
       "      <td>0.418213</td>\n",
       "      <td>-0.418213</td>\n",
       "      <td>-0.738147</td>\n",
       "      <td>0.738147</td>\n",
       "    </tr>\n",
       "    <tr>\n",
       "      <th>17973</th>\n",
       "      <td>-0.541352</td>\n",
       "      <td>0.121161</td>\n",
       "      <td>-0.476212</td>\n",
       "      <td>0.449452</td>\n",
       "      <td>0.418896</td>\n",
       "      <td>1.410295</td>\n",
       "      <td>-1.231249</td>\n",
       "      <td>-0.711980</td>\n",
       "      <td>1.413683</td>\n",
       "      <td>-0.70198</td>\n",
       "      <td>1.016378</td>\n",
       "      <td>-1.016378</td>\n",
       "      <td>0.418213</td>\n",
       "      <td>-0.418213</td>\n",
       "      <td>1.354744</td>\n",
       "      <td>-1.354744</td>\n",
       "    </tr>\n",
       "    <tr>\n",
       "      <th>17974</th>\n",
       "      <td>-0.541352</td>\n",
       "      <td>2.630370</td>\n",
       "      <td>1.863330</td>\n",
       "      <td>-1.345162</td>\n",
       "      <td>0.233335</td>\n",
       "      <td>-0.005039</td>\n",
       "      <td>-0.007894</td>\n",
       "      <td>-0.711980</td>\n",
       "      <td>1.413683</td>\n",
       "      <td>-0.70198</td>\n",
       "      <td>1.016378</td>\n",
       "      <td>-1.016378</td>\n",
       "      <td>0.418213</td>\n",
       "      <td>-0.418213</td>\n",
       "      <td>-0.738147</td>\n",
       "      <td>0.738147</td>\n",
       "    </tr>\n",
       "    <tr>\n",
       "      <th>17975</th>\n",
       "      <td>1.575537</td>\n",
       "      <td>0.121161</td>\n",
       "      <td>-0.476212</td>\n",
       "      <td>-0.447855</td>\n",
       "      <td>0.329684</td>\n",
       "      <td>-1.420373</td>\n",
       "      <td>-0.007894</td>\n",
       "      <td>-0.711980</td>\n",
       "      <td>1.413683</td>\n",
       "      <td>-0.70198</td>\n",
       "      <td>1.016378</td>\n",
       "      <td>-1.016378</td>\n",
       "      <td>0.418213</td>\n",
       "      <td>-0.418213</td>\n",
       "      <td>1.354744</td>\n",
       "      <td>-1.354744</td>\n",
       "    </tr>\n",
       "  </tbody>\n",
       "</table>\n",
       "<p>17976 rows × 16 columns</p>\n",
       "</div>"
      ],
      "text/plain": [
       "       bank_accounts_open  credit_cards_held  homes_owned  household_size   \n",
       "0               -0.541352           0.121161    -0.476212        0.449452  \\\n",
       "1               -0.541352           0.121161     1.863330        1.346760   \n",
       "2                1.575537           0.121161    -0.476212       -1.345162   \n",
       "3                1.575537          -1.133443    -0.476212        0.449452   \n",
       "4               -0.541352           0.121161    -0.476212        2.244067   \n",
       "...                   ...                ...          ...             ...   \n",
       "17971           -0.541352          -1.133443    -0.476212        1.346760   \n",
       "17972           -0.541352           1.375766    -0.476212       -0.447855   \n",
       "17973           -0.541352           0.121161    -0.476212        0.449452   \n",
       "17974           -0.541352           2.630370     1.863330       -1.345162   \n",
       "17975            1.575537           0.121161    -0.476212       -0.447855   \n",
       "\n",
       "       average_balance  income_level  credit_rating  reward_Air Miles   \n",
       "0             0.628724      1.410295       1.215460          1.404533  \\\n",
       "1            -2.264609     -0.005039      -0.007894          1.404533   \n",
       "2            -1.895627      1.410295      -0.007894          1.404533   \n",
       "3             0.795015     -0.005039       1.215460          1.404533   \n",
       "4             0.772177     -0.005039      -0.007894          1.404533   \n",
       "...                ...           ...            ...               ...   \n",
       "17971        -2.206799      1.410295      -1.231249         -0.711980   \n",
       "17972        -0.256976      1.410295      -1.231249         -0.711980   \n",
       "17973         0.418896      1.410295      -1.231249         -0.711980   \n",
       "17974         0.233335     -0.005039      -0.007894         -0.711980   \n",
       "17975         0.329684     -1.420373      -0.007894         -0.711980   \n",
       "\n",
       "       reward_Cash Back  reward_Points  mailer_type_Letter   \n",
       "0             -0.707372       -0.70198            1.016378  \\\n",
       "1             -0.707372       -0.70198            1.016378   \n",
       "2             -0.707372       -0.70198           -0.983886   \n",
       "3             -0.707372       -0.70198            1.016378   \n",
       "4             -0.707372       -0.70198            1.016378   \n",
       "...                 ...            ...                 ...   \n",
       "17971          1.413683       -0.70198            1.016378   \n",
       "17972          1.413683       -0.70198            1.016378   \n",
       "17973          1.413683       -0.70198            1.016378   \n",
       "17974          1.413683       -0.70198            1.016378   \n",
       "17975          1.413683       -0.70198            1.016378   \n",
       "\n",
       "       mailer_type_Postcard  overdraft_protection_No   \n",
       "0                 -1.016378                 0.418213  \\\n",
       "1                 -1.016378                 0.418213   \n",
       "2                  0.983886                 0.418213   \n",
       "3                 -1.016378                 0.418213   \n",
       "4                 -1.016378                 0.418213   \n",
       "...                     ...                      ...   \n",
       "17971             -1.016378                 0.418213   \n",
       "17972             -1.016378                 0.418213   \n",
       "17973             -1.016378                 0.418213   \n",
       "17974             -1.016378                 0.418213   \n",
       "17975             -1.016378                 0.418213   \n",
       "\n",
       "       overdraft_protection_Yes  own_your_home_No  own_your_home_Yes  \n",
       "0                     -0.418213          1.354744          -1.354744  \n",
       "1                     -0.418213         -0.738147           0.738147  \n",
       "2                     -0.418213         -0.738147           0.738147  \n",
       "3                     -0.418213          1.354744          -1.354744  \n",
       "4                     -0.418213         -0.738147           0.738147  \n",
       "...                         ...               ...                ...  \n",
       "17971                 -0.418213         -0.738147           0.738147  \n",
       "17972                 -0.418213         -0.738147           0.738147  \n",
       "17973                 -0.418213          1.354744          -1.354744  \n",
       "17974                 -0.418213         -0.738147           0.738147  \n",
       "17975                 -0.418213          1.354744          -1.354744  \n",
       "\n",
       "[17976 rows x 16 columns]"
      ]
     },
     "execution_count": 591,
     "metadata": {},
     "output_type": "execute_result"
    }
   ],
   "source": [
    "X_avgbal = X.drop(columns=(['q1_balance', 'q2_balance', 'q3_balance', 'q4_balance']))\n",
    "X_avgbal"
   ]
  },
  {
   "attachments": {},
   "cell_type": "markdown",
   "metadata": {},
   "source": [
    "### SMOTE Data"
   ]
  },
  {
   "cell_type": "code",
   "execution_count": 592,
   "metadata": {},
   "outputs": [],
   "source": [
    "smote_data = pd.read_csv(r'./../data/oversampled_data.csv')"
   ]
  },
  {
   "cell_type": "code",
   "execution_count": 593,
   "metadata": {},
   "outputs": [
    {
     "name": "stdout",
     "output_type": "stream",
     "text": [
      "<class 'pandas.core.frame.DataFrame'>\n",
      "RangeIndex: 33910 entries, 0 to 33909\n",
      "Data columns (total 21 columns):\n",
      " #   Column                    Non-Null Count  Dtype  \n",
      "---  ------                    --------------  -----  \n",
      " 0   bank_accounts_open        33910 non-null  float64\n",
      " 1   credit_cards_held         33910 non-null  float64\n",
      " 2   homes_owned               33910 non-null  float64\n",
      " 3   household_size            33910 non-null  float64\n",
      " 4   average_balance           33910 non-null  float64\n",
      " 5   q1_balance                33910 non-null  float64\n",
      " 6   q2_balance                33910 non-null  float64\n",
      " 7   q3_balance                33910 non-null  float64\n",
      " 8   q4_balance                33910 non-null  float64\n",
      " 9   income_level              33910 non-null  float64\n",
      " 10  credit_rating             33910 non-null  float64\n",
      " 11  reward_Air Miles          33910 non-null  float64\n",
      " 12  reward_Cash Back          33910 non-null  float64\n",
      " 13  reward_Points             33910 non-null  float64\n",
      " 14  mailer_type_Letter        33910 non-null  float64\n",
      " 15  mailer_type_Postcard      33910 non-null  float64\n",
      " 16  overdraft_protection_No   33910 non-null  float64\n",
      " 17  overdraft_protection_Yes  33910 non-null  float64\n",
      " 18  own_your_home_No          33910 non-null  float64\n",
      " 19  own_your_home_Yes         33910 non-null  float64\n",
      " 20  offer_accepted            33910 non-null  object \n",
      "dtypes: float64(20), object(1)\n",
      "memory usage: 5.4+ MB\n"
     ]
    }
   ],
   "source": [
    "smote_data.info()"
   ]
  },
  {
   "cell_type": "code",
   "execution_count": 594,
   "metadata": {},
   "outputs": [
    {
     "data": {
      "text/html": [
       "<div>\n",
       "<style scoped>\n",
       "    .dataframe tbody tr th:only-of-type {\n",
       "        vertical-align: middle;\n",
       "    }\n",
       "\n",
       "    .dataframe tbody tr th {\n",
       "        vertical-align: top;\n",
       "    }\n",
       "\n",
       "    .dataframe thead th {\n",
       "        text-align: right;\n",
       "    }\n",
       "</style>\n",
       "<table border=\"1\" class=\"dataframe\">\n",
       "  <thead>\n",
       "    <tr style=\"text-align: right;\">\n",
       "      <th></th>\n",
       "      <th>bank_accounts_open</th>\n",
       "      <th>credit_cards_held</th>\n",
       "      <th>homes_owned</th>\n",
       "      <th>household_size</th>\n",
       "      <th>average_balance</th>\n",
       "      <th>q1_balance</th>\n",
       "      <th>q2_balance</th>\n",
       "      <th>q3_balance</th>\n",
       "      <th>q4_balance</th>\n",
       "      <th>income_level</th>\n",
       "      <th>credit_rating</th>\n",
       "      <th>reward_Air Miles</th>\n",
       "      <th>reward_Cash Back</th>\n",
       "      <th>reward_Points</th>\n",
       "      <th>mailer_type_Letter</th>\n",
       "      <th>mailer_type_Postcard</th>\n",
       "      <th>overdraft_protection_No</th>\n",
       "      <th>overdraft_protection_Yes</th>\n",
       "      <th>own_your_home_No</th>\n",
       "      <th>own_your_home_Yes</th>\n",
       "    </tr>\n",
       "  </thead>\n",
       "  <tbody>\n",
       "    <tr>\n",
       "      <th>0</th>\n",
       "      <td>-0.541352</td>\n",
       "      <td>0.121161</td>\n",
       "      <td>-0.476212</td>\n",
       "      <td>0.449452</td>\n",
       "      <td>0.628724</td>\n",
       "      <td>1.223349</td>\n",
       "      <td>-0.267589</td>\n",
       "      <td>0.095704</td>\n",
       "      <td>0.343147</td>\n",
       "      <td>1.410295</td>\n",
       "      <td>1.215460</td>\n",
       "      <td>1.404533</td>\n",
       "      <td>-0.707372</td>\n",
       "      <td>-0.701980</td>\n",
       "      <td>1.016378</td>\n",
       "      <td>-1.016378</td>\n",
       "      <td>0.418213</td>\n",
       "      <td>-0.418213</td>\n",
       "      <td>1.354744</td>\n",
       "      <td>-1.354744</td>\n",
       "    </tr>\n",
       "    <tr>\n",
       "      <th>1</th>\n",
       "      <td>-0.541352</td>\n",
       "      <td>0.121161</td>\n",
       "      <td>1.863330</td>\n",
       "      <td>1.346760</td>\n",
       "      <td>-2.264609</td>\n",
       "      <td>-1.405430</td>\n",
       "      <td>-1.953241</td>\n",
       "      <td>-1.741902</td>\n",
       "      <td>-0.794628</td>\n",
       "      <td>-0.005039</td>\n",
       "      <td>-0.007894</td>\n",
       "      <td>1.404533</td>\n",
       "      <td>-0.707372</td>\n",
       "      <td>-0.701980</td>\n",
       "      <td>1.016378</td>\n",
       "      <td>-1.016378</td>\n",
       "      <td>0.418213</td>\n",
       "      <td>-0.418213</td>\n",
       "      <td>-0.738147</td>\n",
       "      <td>0.738147</td>\n",
       "    </tr>\n",
       "    <tr>\n",
       "      <th>2</th>\n",
       "      <td>1.575537</td>\n",
       "      <td>0.121161</td>\n",
       "      <td>-0.476212</td>\n",
       "      <td>-1.345162</td>\n",
       "      <td>-1.895627</td>\n",
       "      <td>-0.876449</td>\n",
       "      <td>-1.415407</td>\n",
       "      <td>-1.620841</td>\n",
       "      <td>-1.016458</td>\n",
       "      <td>1.410295</td>\n",
       "      <td>-0.007894</td>\n",
       "      <td>1.404533</td>\n",
       "      <td>-0.707372</td>\n",
       "      <td>-0.701980</td>\n",
       "      <td>-0.983886</td>\n",
       "      <td>0.983886</td>\n",
       "      <td>0.418213</td>\n",
       "      <td>-0.418213</td>\n",
       "      <td>-0.738147</td>\n",
       "      <td>0.738147</td>\n",
       "    </tr>\n",
       "    <tr>\n",
       "      <th>3</th>\n",
       "      <td>1.575537</td>\n",
       "      <td>-1.133443</td>\n",
       "      <td>-0.476212</td>\n",
       "      <td>0.449452</td>\n",
       "      <td>0.795015</td>\n",
       "      <td>1.076589</td>\n",
       "      <td>1.662932</td>\n",
       "      <td>0.139070</td>\n",
       "      <td>-0.699813</td>\n",
       "      <td>-0.005039</td>\n",
       "      <td>1.215460</td>\n",
       "      <td>1.404533</td>\n",
       "      <td>-0.707372</td>\n",
       "      <td>-0.701980</td>\n",
       "      <td>1.016378</td>\n",
       "      <td>-1.016378</td>\n",
       "      <td>0.418213</td>\n",
       "      <td>-0.418213</td>\n",
       "      <td>1.354744</td>\n",
       "      <td>-1.354744</td>\n",
       "    </tr>\n",
       "    <tr>\n",
       "      <th>4</th>\n",
       "      <td>-0.541352</td>\n",
       "      <td>0.121161</td>\n",
       "      <td>-0.476212</td>\n",
       "      <td>2.244067</td>\n",
       "      <td>0.772177</td>\n",
       "      <td>1.982953</td>\n",
       "      <td>0.781845</td>\n",
       "      <td>-0.108474</td>\n",
       "      <td>-0.796417</td>\n",
       "      <td>-0.005039</td>\n",
       "      <td>-0.007894</td>\n",
       "      <td>1.404533</td>\n",
       "      <td>-0.707372</td>\n",
       "      <td>-0.701980</td>\n",
       "      <td>1.016378</td>\n",
       "      <td>-1.016378</td>\n",
       "      <td>0.418213</td>\n",
       "      <td>-0.418213</td>\n",
       "      <td>-0.738147</td>\n",
       "      <td>0.738147</td>\n",
       "    </tr>\n",
       "    <tr>\n",
       "      <th>...</th>\n",
       "      <td>...</td>\n",
       "      <td>...</td>\n",
       "      <td>...</td>\n",
       "      <td>...</td>\n",
       "      <td>...</td>\n",
       "      <td>...</td>\n",
       "      <td>...</td>\n",
       "      <td>...</td>\n",
       "      <td>...</td>\n",
       "      <td>...</td>\n",
       "      <td>...</td>\n",
       "      <td>...</td>\n",
       "      <td>...</td>\n",
       "      <td>...</td>\n",
       "      <td>...</td>\n",
       "      <td>...</td>\n",
       "      <td>...</td>\n",
       "      <td>...</td>\n",
       "      <td>...</td>\n",
       "      <td>...</td>\n",
       "    </tr>\n",
       "    <tr>\n",
       "      <th>33905</th>\n",
       "      <td>1.575537</td>\n",
       "      <td>0.365992</td>\n",
       "      <td>1.406778</td>\n",
       "      <td>1.171654</td>\n",
       "      <td>-2.006040</td>\n",
       "      <td>-1.383443</td>\n",
       "      <td>-1.399945</td>\n",
       "      <td>-1.216592</td>\n",
       "      <td>-1.143719</td>\n",
       "      <td>-1.144176</td>\n",
       "      <td>0.230839</td>\n",
       "      <td>1.404533</td>\n",
       "      <td>-0.707372</td>\n",
       "      <td>-0.701980</td>\n",
       "      <td>-0.983886</td>\n",
       "      <td>0.983886</td>\n",
       "      <td>0.418213</td>\n",
       "      <td>-0.418213</td>\n",
       "      <td>1.354744</td>\n",
       "      <td>-1.354744</td>\n",
       "    </tr>\n",
       "    <tr>\n",
       "      <th>33906</th>\n",
       "      <td>-0.541352</td>\n",
       "      <td>0.121161</td>\n",
       "      <td>-0.476212</td>\n",
       "      <td>-1.339703</td>\n",
       "      <td>0.509354</td>\n",
       "      <td>-0.090918</td>\n",
       "      <td>1.061438</td>\n",
       "      <td>0.733175</td>\n",
       "      <td>-0.216821</td>\n",
       "      <td>-1.420373</td>\n",
       "      <td>-0.007894</td>\n",
       "      <td>1.404533</td>\n",
       "      <td>-0.707372</td>\n",
       "      <td>-0.701980</td>\n",
       "      <td>1.016378</td>\n",
       "      <td>-1.016378</td>\n",
       "      <td>0.418213</td>\n",
       "      <td>-0.418213</td>\n",
       "      <td>-0.738147</td>\n",
       "      <td>0.738147</td>\n",
       "    </tr>\n",
       "    <tr>\n",
       "      <th>33907</th>\n",
       "      <td>-0.541352</td>\n",
       "      <td>-0.742960</td>\n",
       "      <td>-0.476212</td>\n",
       "      <td>-1.345162</td>\n",
       "      <td>0.100980</td>\n",
       "      <td>1.500388</td>\n",
       "      <td>0.608086</td>\n",
       "      <td>-0.670130</td>\n",
       "      <td>-1.245289</td>\n",
       "      <td>-0.445548</td>\n",
       "      <td>-0.850492</td>\n",
       "      <td>-0.711980</td>\n",
       "      <td>1.413683</td>\n",
       "      <td>-0.701980</td>\n",
       "      <td>-0.983886</td>\n",
       "      <td>0.983886</td>\n",
       "      <td>-2.391127</td>\n",
       "      <td>2.391127</td>\n",
       "      <td>0.703352</td>\n",
       "      <td>-0.703352</td>\n",
       "    </tr>\n",
       "    <tr>\n",
       "      <th>33908</th>\n",
       "      <td>-0.541352</td>\n",
       "      <td>0.121161</td>\n",
       "      <td>-0.476212</td>\n",
       "      <td>0.207690</td>\n",
       "      <td>0.117587</td>\n",
       "      <td>0.101837</td>\n",
       "      <td>0.098037</td>\n",
       "      <td>-0.168242</td>\n",
       "      <td>0.268133</td>\n",
       "      <td>0.376295</td>\n",
       "      <td>-0.337504</td>\n",
       "      <td>-0.711980</td>\n",
       "      <td>-0.707372</td>\n",
       "      <td>1.424543</td>\n",
       "      <td>1.016378</td>\n",
       "      <td>-1.016378</td>\n",
       "      <td>0.418213</td>\n",
       "      <td>-0.418213</td>\n",
       "      <td>1.354744</td>\n",
       "      <td>-1.354744</td>\n",
       "    </tr>\n",
       "    <tr>\n",
       "      <th>33909</th>\n",
       "      <td>-0.541352</td>\n",
       "      <td>0.121161</td>\n",
       "      <td>-0.476212</td>\n",
       "      <td>0.449452</td>\n",
       "      <td>0.225198</td>\n",
       "      <td>1.650243</td>\n",
       "      <td>0.537268</td>\n",
       "      <td>-0.563209</td>\n",
       "      <td>-1.148066</td>\n",
       "      <td>-0.406053</td>\n",
       "      <td>-1.231249</td>\n",
       "      <td>1.404533</td>\n",
       "      <td>-0.707372</td>\n",
       "      <td>-0.701980</td>\n",
       "      <td>-0.983886</td>\n",
       "      <td>0.983886</td>\n",
       "      <td>0.418213</td>\n",
       "      <td>-0.418213</td>\n",
       "      <td>-0.738147</td>\n",
       "      <td>0.738147</td>\n",
       "    </tr>\n",
       "  </tbody>\n",
       "</table>\n",
       "<p>33910 rows × 20 columns</p>\n",
       "</div>"
      ],
      "text/plain": [
       "       bank_accounts_open  credit_cards_held  homes_owned  household_size   \n",
       "0               -0.541352           0.121161    -0.476212        0.449452  \\\n",
       "1               -0.541352           0.121161     1.863330        1.346760   \n",
       "2                1.575537           0.121161    -0.476212       -1.345162   \n",
       "3                1.575537          -1.133443    -0.476212        0.449452   \n",
       "4               -0.541352           0.121161    -0.476212        2.244067   \n",
       "...                   ...                ...          ...             ...   \n",
       "33905            1.575537           0.365992     1.406778        1.171654   \n",
       "33906           -0.541352           0.121161    -0.476212       -1.339703   \n",
       "33907           -0.541352          -0.742960    -0.476212       -1.345162   \n",
       "33908           -0.541352           0.121161    -0.476212        0.207690   \n",
       "33909           -0.541352           0.121161    -0.476212        0.449452   \n",
       "\n",
       "       average_balance  q1_balance  q2_balance  q3_balance  q4_balance   \n",
       "0             0.628724    1.223349   -0.267589    0.095704    0.343147  \\\n",
       "1            -2.264609   -1.405430   -1.953241   -1.741902   -0.794628   \n",
       "2            -1.895627   -0.876449   -1.415407   -1.620841   -1.016458   \n",
       "3             0.795015    1.076589    1.662932    0.139070   -0.699813   \n",
       "4             0.772177    1.982953    0.781845   -0.108474   -0.796417   \n",
       "...                ...         ...         ...         ...         ...   \n",
       "33905        -2.006040   -1.383443   -1.399945   -1.216592   -1.143719   \n",
       "33906         0.509354   -0.090918    1.061438    0.733175   -0.216821   \n",
       "33907         0.100980    1.500388    0.608086   -0.670130   -1.245289   \n",
       "33908         0.117587    0.101837    0.098037   -0.168242    0.268133   \n",
       "33909         0.225198    1.650243    0.537268   -0.563209   -1.148066   \n",
       "\n",
       "       income_level  credit_rating  reward_Air Miles  reward_Cash Back   \n",
       "0          1.410295       1.215460          1.404533         -0.707372  \\\n",
       "1         -0.005039      -0.007894          1.404533         -0.707372   \n",
       "2          1.410295      -0.007894          1.404533         -0.707372   \n",
       "3         -0.005039       1.215460          1.404533         -0.707372   \n",
       "4         -0.005039      -0.007894          1.404533         -0.707372   \n",
       "...             ...            ...               ...               ...   \n",
       "33905     -1.144176       0.230839          1.404533         -0.707372   \n",
       "33906     -1.420373      -0.007894          1.404533         -0.707372   \n",
       "33907     -0.445548      -0.850492         -0.711980          1.413683   \n",
       "33908      0.376295      -0.337504         -0.711980         -0.707372   \n",
       "33909     -0.406053      -1.231249          1.404533         -0.707372   \n",
       "\n",
       "       reward_Points  mailer_type_Letter  mailer_type_Postcard   \n",
       "0          -0.701980            1.016378             -1.016378  \\\n",
       "1          -0.701980            1.016378             -1.016378   \n",
       "2          -0.701980           -0.983886              0.983886   \n",
       "3          -0.701980            1.016378             -1.016378   \n",
       "4          -0.701980            1.016378             -1.016378   \n",
       "...              ...                 ...                   ...   \n",
       "33905      -0.701980           -0.983886              0.983886   \n",
       "33906      -0.701980            1.016378             -1.016378   \n",
       "33907      -0.701980           -0.983886              0.983886   \n",
       "33908       1.424543            1.016378             -1.016378   \n",
       "33909      -0.701980           -0.983886              0.983886   \n",
       "\n",
       "       overdraft_protection_No  overdraft_protection_Yes  own_your_home_No   \n",
       "0                     0.418213                 -0.418213          1.354744  \\\n",
       "1                     0.418213                 -0.418213         -0.738147   \n",
       "2                     0.418213                 -0.418213         -0.738147   \n",
       "3                     0.418213                 -0.418213          1.354744   \n",
       "4                     0.418213                 -0.418213         -0.738147   \n",
       "...                        ...                       ...               ...   \n",
       "33905                 0.418213                 -0.418213          1.354744   \n",
       "33906                 0.418213                 -0.418213         -0.738147   \n",
       "33907                -2.391127                  2.391127          0.703352   \n",
       "33908                 0.418213                 -0.418213          1.354744   \n",
       "33909                 0.418213                 -0.418213         -0.738147   \n",
       "\n",
       "       own_your_home_Yes  \n",
       "0              -1.354744  \n",
       "1               0.738147  \n",
       "2               0.738147  \n",
       "3              -1.354744  \n",
       "4               0.738147  \n",
       "...                  ...  \n",
       "33905          -1.354744  \n",
       "33906           0.738147  \n",
       "33907          -0.703352  \n",
       "33908          -1.354744  \n",
       "33909           0.738147  \n",
       "\n",
       "[33910 rows x 20 columns]"
      ]
     },
     "execution_count": 594,
     "metadata": {},
     "output_type": "execute_result"
    }
   ],
   "source": [
    "X_sm = smote_data.drop('offer_accepted', axis=1)\n",
    "X_sm"
   ]
  },
  {
   "cell_type": "code",
   "execution_count": 595,
   "metadata": {},
   "outputs": [
    {
     "data": {
      "text/plain": [
       "0        0\n",
       "1        0\n",
       "2        0\n",
       "3        0\n",
       "4        0\n",
       "        ..\n",
       "33905    1\n",
       "33906    1\n",
       "33907    1\n",
       "33908    1\n",
       "33909    1\n",
       "Name: offer_accepted, Length: 33910, dtype: int64"
      ]
     },
     "execution_count": 595,
     "metadata": {},
     "output_type": "execute_result"
    }
   ],
   "source": [
    "y_sm = smote_data.iloc[:, -1]\n",
    "y_sm = y_sm.map({'No': 0, 'Yes': 1})\n",
    "y_sm"
   ]
  },
  {
   "attachments": {},
   "cell_type": "markdown",
   "metadata": {},
   "source": [
    "#### X Variation: Remove 4 columns of Quarter Balances"
   ]
  },
  {
   "cell_type": "code",
   "execution_count": 596,
   "metadata": {},
   "outputs": [
    {
     "data": {
      "text/html": [
       "<div>\n",
       "<style scoped>\n",
       "    .dataframe tbody tr th:only-of-type {\n",
       "        vertical-align: middle;\n",
       "    }\n",
       "\n",
       "    .dataframe tbody tr th {\n",
       "        vertical-align: top;\n",
       "    }\n",
       "\n",
       "    .dataframe thead th {\n",
       "        text-align: right;\n",
       "    }\n",
       "</style>\n",
       "<table border=\"1\" class=\"dataframe\">\n",
       "  <thead>\n",
       "    <tr style=\"text-align: right;\">\n",
       "      <th></th>\n",
       "      <th>bank_accounts_open</th>\n",
       "      <th>credit_cards_held</th>\n",
       "      <th>homes_owned</th>\n",
       "      <th>household_size</th>\n",
       "      <th>average_balance</th>\n",
       "      <th>income_level</th>\n",
       "      <th>credit_rating</th>\n",
       "      <th>reward_Air Miles</th>\n",
       "      <th>reward_Cash Back</th>\n",
       "      <th>reward_Points</th>\n",
       "      <th>mailer_type_Letter</th>\n",
       "      <th>mailer_type_Postcard</th>\n",
       "      <th>overdraft_protection_No</th>\n",
       "      <th>overdraft_protection_Yes</th>\n",
       "      <th>own_your_home_No</th>\n",
       "      <th>own_your_home_Yes</th>\n",
       "    </tr>\n",
       "  </thead>\n",
       "  <tbody>\n",
       "    <tr>\n",
       "      <th>0</th>\n",
       "      <td>-0.541352</td>\n",
       "      <td>0.121161</td>\n",
       "      <td>-0.476212</td>\n",
       "      <td>0.449452</td>\n",
       "      <td>0.628724</td>\n",
       "      <td>1.410295</td>\n",
       "      <td>1.215460</td>\n",
       "      <td>1.404533</td>\n",
       "      <td>-0.707372</td>\n",
       "      <td>-0.701980</td>\n",
       "      <td>1.016378</td>\n",
       "      <td>-1.016378</td>\n",
       "      <td>0.418213</td>\n",
       "      <td>-0.418213</td>\n",
       "      <td>1.354744</td>\n",
       "      <td>-1.354744</td>\n",
       "    </tr>\n",
       "    <tr>\n",
       "      <th>1</th>\n",
       "      <td>-0.541352</td>\n",
       "      <td>0.121161</td>\n",
       "      <td>1.863330</td>\n",
       "      <td>1.346760</td>\n",
       "      <td>-2.264609</td>\n",
       "      <td>-0.005039</td>\n",
       "      <td>-0.007894</td>\n",
       "      <td>1.404533</td>\n",
       "      <td>-0.707372</td>\n",
       "      <td>-0.701980</td>\n",
       "      <td>1.016378</td>\n",
       "      <td>-1.016378</td>\n",
       "      <td>0.418213</td>\n",
       "      <td>-0.418213</td>\n",
       "      <td>-0.738147</td>\n",
       "      <td>0.738147</td>\n",
       "    </tr>\n",
       "    <tr>\n",
       "      <th>2</th>\n",
       "      <td>1.575537</td>\n",
       "      <td>0.121161</td>\n",
       "      <td>-0.476212</td>\n",
       "      <td>-1.345162</td>\n",
       "      <td>-1.895627</td>\n",
       "      <td>1.410295</td>\n",
       "      <td>-0.007894</td>\n",
       "      <td>1.404533</td>\n",
       "      <td>-0.707372</td>\n",
       "      <td>-0.701980</td>\n",
       "      <td>-0.983886</td>\n",
       "      <td>0.983886</td>\n",
       "      <td>0.418213</td>\n",
       "      <td>-0.418213</td>\n",
       "      <td>-0.738147</td>\n",
       "      <td>0.738147</td>\n",
       "    </tr>\n",
       "    <tr>\n",
       "      <th>3</th>\n",
       "      <td>1.575537</td>\n",
       "      <td>-1.133443</td>\n",
       "      <td>-0.476212</td>\n",
       "      <td>0.449452</td>\n",
       "      <td>0.795015</td>\n",
       "      <td>-0.005039</td>\n",
       "      <td>1.215460</td>\n",
       "      <td>1.404533</td>\n",
       "      <td>-0.707372</td>\n",
       "      <td>-0.701980</td>\n",
       "      <td>1.016378</td>\n",
       "      <td>-1.016378</td>\n",
       "      <td>0.418213</td>\n",
       "      <td>-0.418213</td>\n",
       "      <td>1.354744</td>\n",
       "      <td>-1.354744</td>\n",
       "    </tr>\n",
       "    <tr>\n",
       "      <th>4</th>\n",
       "      <td>-0.541352</td>\n",
       "      <td>0.121161</td>\n",
       "      <td>-0.476212</td>\n",
       "      <td>2.244067</td>\n",
       "      <td>0.772177</td>\n",
       "      <td>-0.005039</td>\n",
       "      <td>-0.007894</td>\n",
       "      <td>1.404533</td>\n",
       "      <td>-0.707372</td>\n",
       "      <td>-0.701980</td>\n",
       "      <td>1.016378</td>\n",
       "      <td>-1.016378</td>\n",
       "      <td>0.418213</td>\n",
       "      <td>-0.418213</td>\n",
       "      <td>-0.738147</td>\n",
       "      <td>0.738147</td>\n",
       "    </tr>\n",
       "    <tr>\n",
       "      <th>...</th>\n",
       "      <td>...</td>\n",
       "      <td>...</td>\n",
       "      <td>...</td>\n",
       "      <td>...</td>\n",
       "      <td>...</td>\n",
       "      <td>...</td>\n",
       "      <td>...</td>\n",
       "      <td>...</td>\n",
       "      <td>...</td>\n",
       "      <td>...</td>\n",
       "      <td>...</td>\n",
       "      <td>...</td>\n",
       "      <td>...</td>\n",
       "      <td>...</td>\n",
       "      <td>...</td>\n",
       "      <td>...</td>\n",
       "    </tr>\n",
       "    <tr>\n",
       "      <th>33905</th>\n",
       "      <td>1.575537</td>\n",
       "      <td>0.365992</td>\n",
       "      <td>1.406778</td>\n",
       "      <td>1.171654</td>\n",
       "      <td>-2.006040</td>\n",
       "      <td>-1.144176</td>\n",
       "      <td>0.230839</td>\n",
       "      <td>1.404533</td>\n",
       "      <td>-0.707372</td>\n",
       "      <td>-0.701980</td>\n",
       "      <td>-0.983886</td>\n",
       "      <td>0.983886</td>\n",
       "      <td>0.418213</td>\n",
       "      <td>-0.418213</td>\n",
       "      <td>1.354744</td>\n",
       "      <td>-1.354744</td>\n",
       "    </tr>\n",
       "    <tr>\n",
       "      <th>33906</th>\n",
       "      <td>-0.541352</td>\n",
       "      <td>0.121161</td>\n",
       "      <td>-0.476212</td>\n",
       "      <td>-1.339703</td>\n",
       "      <td>0.509354</td>\n",
       "      <td>-1.420373</td>\n",
       "      <td>-0.007894</td>\n",
       "      <td>1.404533</td>\n",
       "      <td>-0.707372</td>\n",
       "      <td>-0.701980</td>\n",
       "      <td>1.016378</td>\n",
       "      <td>-1.016378</td>\n",
       "      <td>0.418213</td>\n",
       "      <td>-0.418213</td>\n",
       "      <td>-0.738147</td>\n",
       "      <td>0.738147</td>\n",
       "    </tr>\n",
       "    <tr>\n",
       "      <th>33907</th>\n",
       "      <td>-0.541352</td>\n",
       "      <td>-0.742960</td>\n",
       "      <td>-0.476212</td>\n",
       "      <td>-1.345162</td>\n",
       "      <td>0.100980</td>\n",
       "      <td>-0.445548</td>\n",
       "      <td>-0.850492</td>\n",
       "      <td>-0.711980</td>\n",
       "      <td>1.413683</td>\n",
       "      <td>-0.701980</td>\n",
       "      <td>-0.983886</td>\n",
       "      <td>0.983886</td>\n",
       "      <td>-2.391127</td>\n",
       "      <td>2.391127</td>\n",
       "      <td>0.703352</td>\n",
       "      <td>-0.703352</td>\n",
       "    </tr>\n",
       "    <tr>\n",
       "      <th>33908</th>\n",
       "      <td>-0.541352</td>\n",
       "      <td>0.121161</td>\n",
       "      <td>-0.476212</td>\n",
       "      <td>0.207690</td>\n",
       "      <td>0.117587</td>\n",
       "      <td>0.376295</td>\n",
       "      <td>-0.337504</td>\n",
       "      <td>-0.711980</td>\n",
       "      <td>-0.707372</td>\n",
       "      <td>1.424543</td>\n",
       "      <td>1.016378</td>\n",
       "      <td>-1.016378</td>\n",
       "      <td>0.418213</td>\n",
       "      <td>-0.418213</td>\n",
       "      <td>1.354744</td>\n",
       "      <td>-1.354744</td>\n",
       "    </tr>\n",
       "    <tr>\n",
       "      <th>33909</th>\n",
       "      <td>-0.541352</td>\n",
       "      <td>0.121161</td>\n",
       "      <td>-0.476212</td>\n",
       "      <td>0.449452</td>\n",
       "      <td>0.225198</td>\n",
       "      <td>-0.406053</td>\n",
       "      <td>-1.231249</td>\n",
       "      <td>1.404533</td>\n",
       "      <td>-0.707372</td>\n",
       "      <td>-0.701980</td>\n",
       "      <td>-0.983886</td>\n",
       "      <td>0.983886</td>\n",
       "      <td>0.418213</td>\n",
       "      <td>-0.418213</td>\n",
       "      <td>-0.738147</td>\n",
       "      <td>0.738147</td>\n",
       "    </tr>\n",
       "  </tbody>\n",
       "</table>\n",
       "<p>33910 rows × 16 columns</p>\n",
       "</div>"
      ],
      "text/plain": [
       "       bank_accounts_open  credit_cards_held  homes_owned  household_size   \n",
       "0               -0.541352           0.121161    -0.476212        0.449452  \\\n",
       "1               -0.541352           0.121161     1.863330        1.346760   \n",
       "2                1.575537           0.121161    -0.476212       -1.345162   \n",
       "3                1.575537          -1.133443    -0.476212        0.449452   \n",
       "4               -0.541352           0.121161    -0.476212        2.244067   \n",
       "...                   ...                ...          ...             ...   \n",
       "33905            1.575537           0.365992     1.406778        1.171654   \n",
       "33906           -0.541352           0.121161    -0.476212       -1.339703   \n",
       "33907           -0.541352          -0.742960    -0.476212       -1.345162   \n",
       "33908           -0.541352           0.121161    -0.476212        0.207690   \n",
       "33909           -0.541352           0.121161    -0.476212        0.449452   \n",
       "\n",
       "       average_balance  income_level  credit_rating  reward_Air Miles   \n",
       "0             0.628724      1.410295       1.215460          1.404533  \\\n",
       "1            -2.264609     -0.005039      -0.007894          1.404533   \n",
       "2            -1.895627      1.410295      -0.007894          1.404533   \n",
       "3             0.795015     -0.005039       1.215460          1.404533   \n",
       "4             0.772177     -0.005039      -0.007894          1.404533   \n",
       "...                ...           ...            ...               ...   \n",
       "33905        -2.006040     -1.144176       0.230839          1.404533   \n",
       "33906         0.509354     -1.420373      -0.007894          1.404533   \n",
       "33907         0.100980     -0.445548      -0.850492         -0.711980   \n",
       "33908         0.117587      0.376295      -0.337504         -0.711980   \n",
       "33909         0.225198     -0.406053      -1.231249          1.404533   \n",
       "\n",
       "       reward_Cash Back  reward_Points  mailer_type_Letter   \n",
       "0             -0.707372      -0.701980            1.016378  \\\n",
       "1             -0.707372      -0.701980            1.016378   \n",
       "2             -0.707372      -0.701980           -0.983886   \n",
       "3             -0.707372      -0.701980            1.016378   \n",
       "4             -0.707372      -0.701980            1.016378   \n",
       "...                 ...            ...                 ...   \n",
       "33905         -0.707372      -0.701980           -0.983886   \n",
       "33906         -0.707372      -0.701980            1.016378   \n",
       "33907          1.413683      -0.701980           -0.983886   \n",
       "33908         -0.707372       1.424543            1.016378   \n",
       "33909         -0.707372      -0.701980           -0.983886   \n",
       "\n",
       "       mailer_type_Postcard  overdraft_protection_No   \n",
       "0                 -1.016378                 0.418213  \\\n",
       "1                 -1.016378                 0.418213   \n",
       "2                  0.983886                 0.418213   \n",
       "3                 -1.016378                 0.418213   \n",
       "4                 -1.016378                 0.418213   \n",
       "...                     ...                      ...   \n",
       "33905              0.983886                 0.418213   \n",
       "33906             -1.016378                 0.418213   \n",
       "33907              0.983886                -2.391127   \n",
       "33908             -1.016378                 0.418213   \n",
       "33909              0.983886                 0.418213   \n",
       "\n",
       "       overdraft_protection_Yes  own_your_home_No  own_your_home_Yes  \n",
       "0                     -0.418213          1.354744          -1.354744  \n",
       "1                     -0.418213         -0.738147           0.738147  \n",
       "2                     -0.418213         -0.738147           0.738147  \n",
       "3                     -0.418213          1.354744          -1.354744  \n",
       "4                     -0.418213         -0.738147           0.738147  \n",
       "...                         ...               ...                ...  \n",
       "33905                 -0.418213          1.354744          -1.354744  \n",
       "33906                 -0.418213         -0.738147           0.738147  \n",
       "33907                  2.391127          0.703352          -0.703352  \n",
       "33908                 -0.418213          1.354744          -1.354744  \n",
       "33909                 -0.418213         -0.738147           0.738147  \n",
       "\n",
       "[33910 rows x 16 columns]"
      ]
     },
     "execution_count": 596,
     "metadata": {},
     "output_type": "execute_result"
    }
   ],
   "source": [
    "# Remove the quarterly balances to eliminate multicollinearity\n",
    "Xsm_avgbal = X_sm.drop(columns=(['q1_balance', 'q2_balance', 'q3_balance', 'q4_balance']))\n",
    "Xsm_avgbal"
   ]
  },
  {
   "attachments": {},
   "cell_type": "markdown",
   "metadata": {},
   "source": [
    "### Add random variable in X\n",
    "- This variable will be useful when checking for feature importance. Every variable below it could most likely be dropped."
   ]
  },
  {
   "cell_type": "code",
   "execution_count": 597,
   "metadata": {},
   "outputs": [],
   "source": [
    "X['random'] = np.random.random(size=len(X))\n",
    "X_avgbal['random'] = np.random.random(size=len(X_avgbal))\n",
    "X_sm['random'] = np.random.random(size=len(X_sm))\n",
    "Xsm_avgbal['random'] = np.random.random(size=len(Xsm_avgbal))"
   ]
  },
  {
   "attachments": {},
   "cell_type": "markdown",
   "metadata": {},
   "source": [
    "## Modeling"
   ]
  },
  {
   "attachments": {},
   "cell_type": "markdown",
   "metadata": {},
   "source": [
    "### Original Data"
   ]
  },
  {
   "cell_type": "code",
   "execution_count": 598,
   "metadata": {},
   "outputs": [],
   "source": [
    "X_train, X_test, y_train, y_test = xy_split(X, y_int)"
   ]
  },
  {
   "cell_type": "code",
   "execution_count": 599,
   "metadata": {},
   "outputs": [
    {
     "name": "stdout",
     "output_type": "stream",
     "text": [
      "(12583, 21) 12583\n",
      "(5393, 21) 5393\n"
     ]
    }
   ],
   "source": [
    "#Checking the number of records\n",
    "print(X_train.shape, len(y_train))\n",
    "print(X_test.shape, len(y_test))"
   ]
  },
  {
   "cell_type": "code",
   "execution_count": 600,
   "metadata": {},
   "outputs": [],
   "source": [
    "# Fitting the model with gini criterion\n",
    "dt.fit(X_train, y_train)\n",
    "\n",
    "# Model predictions\n",
    "dt_pred = dt.predict(X_test)"
   ]
  },
  {
   "cell_type": "code",
   "execution_count": 601,
   "metadata": {},
   "outputs": [
    {
     "data": {
      "text/plain": [
       "Cohen Kappa Score    0.04\n",
       "Accuracy             0.89\n",
       "Precision            0.09\n",
       "Recall               0.10\n",
       "F1                   0.10\n",
       "AUC Score            0.52\n",
       "dtype: float64"
      ]
     },
     "execution_count": 601,
     "metadata": {},
     "output_type": "execute_result"
    }
   ],
   "source": [
    "dt_metrics = metrics_class(y_test, dt_pred)\n",
    "dt_metrics"
   ]
  },
  {
   "cell_type": "code",
   "execution_count": 602,
   "metadata": {},
   "outputs": [
    {
     "data": {
      "image/png": "[encoded data removed]",
      "text/plain": [
       "<Figure size 800x600 with 2 Axes>"
      ]
     },
     "metadata": {},
     "output_type": "display_data"
    }
   ],
   "source": [
    "plot_cm(y_test, dt_pred)"
   ]
  },
  {
   "cell_type": "code",
   "execution_count": 603,
   "metadata": {},
   "outputs": [],
   "source": [
    "# Fitting the model with entropy criterion\n",
    "dt_entropy.fit(X_train, y_train)\n",
    "\n",
    "# Model predictions\n",
    "dt_ent_pred = dt.predict(X_test)"
   ]
  },
  {
   "cell_type": "code",
   "execution_count": 604,
   "metadata": {},
   "outputs": [
    {
     "data": {
      "text/plain": [
       "Cohen Kappa Score    0.04\n",
       "Accuracy             0.89\n",
       "Precision            0.09\n",
       "Recall               0.10\n",
       "F1                   0.10\n",
       "AUC Score            0.52\n",
       "dtype: float64"
      ]
     },
     "execution_count": 604,
     "metadata": {},
     "output_type": "execute_result"
    }
   ],
   "source": [
    "dt_ent_metrics = metrics_class(y_test, dt_ent_pred)\n",
    "dt_ent_metrics"
   ]
  },
  {
   "cell_type": "code",
   "execution_count": 605,
   "metadata": {},
   "outputs": [
    {
     "data": {
      "image/png": "[encoded data removed]",
      "text/plain": [
       "<Figure size 800x600 with 2 Axes>"
      ]
     },
     "metadata": {},
     "output_type": "display_data"
    }
   ],
   "source": [
    "plot_cm(y_test, dt_ent_pred)"
   ]
  },
  {
   "attachments": {},
   "cell_type": "markdown",
   "metadata": {},
   "source": [
    "> **Note:** Model has high accuracy but as shown by the confusion matrix and the other metrics above, we can see how bad it is at predicting the 'Yes'. This could be highly due to the imbalanced nature of the training set.\n",
    ">\n",
    "> Both gini and entropy models have same results. We will be moving on with the gini criterion for the following models."
   ]
  },
  {
   "attachments": {},
   "cell_type": "markdown",
   "metadata": {},
   "source": [
    "#### Feature Importance"
   ]
  },
  {
   "cell_type": "code",
   "execution_count": 606,
   "metadata": {},
   "outputs": [
    {
     "data": {
      "text/plain": [
       "random                      0.163\n",
       "q2_balance                  0.154\n",
       "q1_balance                  0.138\n",
       "q3_balance                  0.115\n",
       "average_balance             0.108\n",
       "q4_balance                  0.103\n",
       "household_size              0.047\n",
       "credit_rating               0.024\n",
       "income_level                0.021\n",
       "homes_owned                 0.019\n",
       "credit_cards_held           0.018\n",
       "bank_accounts_open          0.017\n",
       "mailer_type_Postcard        0.016\n",
       "own_your_home_No            0.012\n",
       "overdraft_protection_Yes    0.009\n",
       "reward_Cash Back            0.008\n",
       "own_your_home_Yes           0.007\n",
       "reward_Points               0.006\n",
       "overdraft_protection_No     0.006\n",
       "reward_Air Miles            0.005\n",
       "mailer_type_Letter          0.004\n",
       "Name: 0, dtype: float64"
      ]
     },
     "execution_count": 606,
     "metadata": {},
     "output_type": "execute_result"
    }
   ],
   "source": [
    "importance_dt = importance(dt, X)\n",
    "importance_dt"
   ]
  },
  {
   "cell_type": "code",
   "execution_count": 607,
   "metadata": {},
   "outputs": [
    {
     "data": {
      "text/plain": [
       "<Axes: xlabel='0'>"
      ]
     },
     "execution_count": 607,
     "metadata": {},
     "output_type": "execute_result"
    },
    {
     "data": {
      "image/png": "[encoded data removed]",
      "text/plain": [
       "<Figure size 1800x800 with 1 Axes>"
      ]
     },
     "metadata": {},
     "output_type": "display_data"
    }
   ],
   "source": [
    "plot_importance(importance_dt)"
   ]
  },
  {
   "attachments": {},
   "cell_type": "markdown",
   "metadata": {},
   "source": [
    "> **Note:** We can clearly see the bias towards high cardinality features (continuous variables). Random variable added is also considered more important compared to other real variables provided."
   ]
  },
  {
   "attachments": {},
   "cell_type": "markdown",
   "metadata": {},
   "source": [
    "#### Permutation Importance"
   ]
  },
  {
   "cell_type": "code",
   "execution_count": 608,
   "metadata": {},
   "outputs": [],
   "source": [
    "train_impt, test_impt = perm_importance(dt, X, y_int)"
   ]
  },
  {
   "cell_type": "code",
   "execution_count": 609,
   "metadata": {},
   "outputs": [
    {
     "data": {
      "image/png": "[encoded data removed]",
      "text/plain": [
       "<Figure size 1400x700 with 2 Axes>"
      ]
     },
     "metadata": {},
     "output_type": "display_data"
    }
   ],
   "source": [
    "plot_perm_impt(train_impt, test_impt)"
   ]
  },
  {
   "attachments": {},
   "cell_type": "markdown",
   "metadata": {},
   "source": [
    "> **Top Variables (above random):**\n",
    "> 1. credit_rating\n",
    "> 2. q3 balance\n",
    "> 3. q4 balance\n",
    "> 4. q2_balance\n",
    "> 5. q1_balance\n",
    "> 6. average_balance\n",
    "> 7. income_level\n",
    "> 8. mailer_type_Postcard\n",
    ">\n",
    "> Here are the top variables according the permutation importance. Although we still have high cardinality features included in the most important variables, we also have new ones added to the list (credit_rating, income_level, mailer_type_Postcard)."
   ]
  },
  {
   "attachments": {},
   "cell_type": "markdown",
   "metadata": {},
   "source": [
    "### Original with X Variation: Remove 4 columns of Quarter Balances"
   ]
  },
  {
   "cell_type": "code",
   "execution_count": 610,
   "metadata": {},
   "outputs": [],
   "source": [
    "Xavg_train, Xavg_test, yavg_train, yavg_test = xy_split(X_avgbal, y_int)"
   ]
  },
  {
   "cell_type": "code",
   "execution_count": 611,
   "metadata": {},
   "outputs": [
    {
     "name": "stdout",
     "output_type": "stream",
     "text": [
      "(12583, 17) 12583\n",
      "(5393, 17) 5393\n"
     ]
    }
   ],
   "source": [
    "#Checking the number of records\n",
    "print(Xavg_train.shape, len(yavg_train))\n",
    "print(Xavg_test.shape, len(yavg_test))"
   ]
  },
  {
   "cell_type": "code",
   "execution_count": 612,
   "metadata": {},
   "outputs": [],
   "source": [
    "# Fitting the model\n",
    "dt.fit(Xavg_train, yavg_train)\n",
    "\n",
    "# Model predictions\n",
    "dtavg_pred = dt.predict(Xavg_test)"
   ]
  },
  {
   "cell_type": "code",
   "execution_count": 613,
   "metadata": {},
   "outputs": [
    {
     "data": {
      "text/plain": [
       "Cohen Kappa Score    0.06\n",
       "Accuracy             0.89\n",
       "Precision            0.11\n",
       "Recall               0.12\n",
       "F1                   0.11\n",
       "AUC Score            0.53\n",
       "dtype: float64"
      ]
     },
     "execution_count": 613,
     "metadata": {},
     "output_type": "execute_result"
    }
   ],
   "source": [
    "dtavg_metrics = metrics_class(yavg_test, dtavg_pred)\n",
    "dtavg_metrics"
   ]
  },
  {
   "cell_type": "code",
   "execution_count": 614,
   "metadata": {},
   "outputs": [
    {
     "data": {
      "image/png": "[encoded data removed]",
      "text/plain": [
       "<Figure size 800x600 with 2 Axes>"
      ]
     },
     "metadata": {},
     "output_type": "display_data"
    }
   ],
   "source": [
    "plot_cm(yavg_test, dtavg_pred)"
   ]
  },
  {
   "attachments": {},
   "cell_type": "markdown",
   "metadata": {},
   "source": [
    "> **Note:** Model performance is not that different from the original data which includes quaterly balances."
   ]
  },
  {
   "attachments": {},
   "cell_type": "markdown",
   "metadata": {},
   "source": [
    "#### Feature Importance"
   ]
  },
  {
   "cell_type": "code",
   "execution_count": 615,
   "metadata": {},
   "outputs": [
    {
     "data": {
      "text/plain": [
       "random                      0.356\n",
       "average_balance             0.337\n",
       "household_size              0.062\n",
       "credit_cards_held           0.048\n",
       "homes_owned                 0.030\n",
       "income_level                0.028\n",
       "credit_rating               0.025\n",
       "bank_accounts_open          0.019\n",
       "own_your_home_Yes           0.016\n",
       "own_your_home_No            0.014\n",
       "mailer_type_Letter          0.014\n",
       "overdraft_protection_Yes    0.012\n",
       "reward_Points               0.012\n",
       "reward_Air Miles            0.012\n",
       "overdraft_protection_No     0.009\n",
       "reward_Cash Back            0.004\n",
       "mailer_type_Postcard        0.003\n",
       "Name: 0, dtype: float64"
      ]
     },
     "execution_count": 615,
     "metadata": {},
     "output_type": "execute_result"
    }
   ],
   "source": [
    "importance_dtavg = importance(dt, X_avgbal)\n",
    "importance_dtavg"
   ]
  },
  {
   "cell_type": "code",
   "execution_count": 616,
   "metadata": {},
   "outputs": [
    {
     "data": {
      "text/plain": [
       "<Axes: xlabel='0'>"
      ]
     },
     "execution_count": 616,
     "metadata": {},
     "output_type": "execute_result"
    },
    {
     "data": {
      "image/png": "[encoded data removed]",
      "text/plain": [
       "<Figure size 1800x800 with 1 Axes>"
      ]
     },
     "metadata": {},
     "output_type": "display_data"
    }
   ],
   "source": [
    "plot_importance(importance_dtavg)"
   ]
  },
  {
   "attachments": {},
   "cell_type": "markdown",
   "metadata": {},
   "source": [
    "#### Permutation Importance"
   ]
  },
  {
   "cell_type": "code",
   "execution_count": 617,
   "metadata": {},
   "outputs": [],
   "source": [
    "train_impt, test_impt = perm_importance(dt, X_avgbal, y_int)"
   ]
  },
  {
   "cell_type": "code",
   "execution_count": 618,
   "metadata": {},
   "outputs": [
    {
     "data": {
      "image/png": "[encoded data removed]",
      "text/plain": [
       "<Figure size 1400x700 with 2 Axes>"
      ]
     },
     "metadata": {},
     "output_type": "display_data"
    }
   ],
   "source": [
    "plot_perm_impt(train_impt, test_impt)"
   ]
  },
  {
   "attachments": {},
   "cell_type": "markdown",
   "metadata": {},
   "source": [
    "> **Note:** For both type of feature importance calculation, the random variable has been deemed the most important!"
   ]
  },
  {
   "attachments": {},
   "cell_type": "markdown",
   "metadata": {},
   "source": [
    "### SMOTE Data"
   ]
  },
  {
   "cell_type": "code",
   "execution_count": 624,
   "metadata": {},
   "outputs": [],
   "source": [
    "# SMOTE Data\n",
    "Xsm_train, Xsm_test, ysm_train, ysm_test = xy_split(X_sm, y_sm)"
   ]
  },
  {
   "cell_type": "code",
   "execution_count": 625,
   "metadata": {},
   "outputs": [
    {
     "name": "stdout",
     "output_type": "stream",
     "text": [
      "(23737, 21) 23737\n",
      "(10173, 21) 10173\n"
     ]
    }
   ],
   "source": [
    "#Checking the number of records\n",
    "print(Xsm_train.shape, len(ysm_train))\n",
    "print(Xsm_test.shape, len(ysm_test))"
   ]
  },
  {
   "cell_type": "code",
   "execution_count": 621,
   "metadata": {},
   "outputs": [],
   "source": [
    "# Fitting the model\n",
    "dt.fit(Xsm_train, ysm_train)\n",
    "\n",
    "# Model predictions\n",
    "dtsm_pred = dt.predict(Xsm_test)"
   ]
  },
  {
   "cell_type": "code",
   "execution_count": 626,
   "metadata": {},
   "outputs": [
    {
     "data": {
      "text/plain": [
       "Cohen Kappa Score    0.84\n",
       "Accuracy             0.92\n",
       "Precision            0.91\n",
       "Recall               0.93\n",
       "F1                   0.92\n",
       "AUC Score            0.92\n",
       "dtype: float64"
      ]
     },
     "execution_count": 626,
     "metadata": {},
     "output_type": "execute_result"
    }
   ],
   "source": [
    "dtsm_metrics = metrics_class(ysm_test, dtsm_pred)\n",
    "dtsm_metrics"
   ]
  },
  {
   "cell_type": "code",
   "execution_count": 627,
   "metadata": {},
   "outputs": [
    {
     "data": {
      "image/png": "[encoded data removed]",
      "text/plain": [
       "<Figure size 800x600 with 2 Axes>"
      ]
     },
     "metadata": {},
     "output_type": "display_data"
    }
   ],
   "source": [
    "plot_cm(ysm_test, dtsm_pred)"
   ]
  },
  {
   "attachments": {},
   "cell_type": "markdown",
   "metadata": {},
   "source": [
    "#### SMOTE Data, X Variation: No Quarterly Balance"
   ]
  },
  {
   "cell_type": "code",
   "execution_count": 622,
   "metadata": {},
   "outputs": [],
   "source": [
    "Xsmavg_train, Xsmavg_test, ysmavg_train, ysmavg_test = xy_split(Xsm_avgbal, y_sm)"
   ]
  },
  {
   "cell_type": "code",
   "execution_count": 623,
   "metadata": {},
   "outputs": [
    {
     "ename": "NameError",
     "evalue": "name 'classify_log' is not defined",
     "output_type": "error",
     "traceback": [
      "\u001b[0;31m---------------------------------------------------------------------------\u001b[0m",
      "\u001b[0;31mNameError\u001b[0m                                 Traceback (most recent call last)",
      "Cell \u001b[0;32mIn[623], line 1\u001b[0m\n\u001b[0;32m----> 1\u001b[0m logsm_avg_pred, importance_logsm_avg \u001b[39m=\u001b[39m classify_log(Xsm_avgbal, y_sm)\n\u001b[1;32m      2\u001b[0m importance_logsm_avg\n",
      "\u001b[0;31mNameError\u001b[0m: name 'classify_log' is not defined"
     ]
    }
   ],
   "source": [
    "logsm_avg_pred, importance_logsm_avg = classify_log(Xsm_avgbal, y_sm)\n",
    "importance_logsm_avg"
   ]
  },
  {
   "cell_type": "code",
   "execution_count": null,
   "metadata": {},
   "outputs": [],
   "source": [
    "logsm_avg_metrics = metrics_class(ysmavg_test, logsm_avg_pred)\n",
    "logsm_avg_metrics"
   ]
  },
  {
   "cell_type": "code",
   "execution_count": null,
   "metadata": {},
   "outputs": [],
   "source": [
    "plot_cm(ysmavg_test, logsm_avg_pred)"
   ]
  },
  {
   "cell_type": "code",
   "execution_count": null,
   "metadata": {},
   "outputs": [],
   "source": [
    "# roc curve for models\n",
    "fpr1, tpr1, thresh1 = roc_curve(y_test, log_pred, pos_label=1)\n",
    "fpr2, tpr2, thresh2 = roc_curve(yavg_test, log_pred_avg, pos_label=1)\n",
    "fpr3, tpr3, thresh3 = roc_curve(ysm_test, logsm_pred, pos_label=1)\n",
    "fpr4, tpr4, thresh4 = roc_curve(ysmavg_test, logsm_avg_pred, pos_label=1)\n",
    "\n",
    "# roc curve for tpr = fpr \n",
    "random_probs = [0 for i in range(len(y_test))]\n",
    "p_fpr, p_tpr, _ = roc_curve(y_test, random_probs, pos_label=1)"
   ]
  },
  {
   "cell_type": "code",
   "execution_count": null,
   "metadata": {},
   "outputs": [],
   "source": [
    "plt.plot(fpr1, tpr1, linestyle='--',color='orange', label='Original Data')\n",
    "plt.plot(fpr2, tpr2, linestyle='--',color='green', label='Original with AVG Balance')\n",
    "plt.plot(fpr3, tpr3, linestyle='--',color='red', label='SMOTE Data')\n",
    "plt.plot(fpr4, tpr4, linestyle='--',color='black', label='SMOTE with AVG Balance')\n",
    "plt.plot(p_fpr, p_tpr, linestyle='--', color='blue')\n",
    "\n",
    "# title\n",
    "plt.title('ROC Curve')\n",
    "# x label\n",
    "plt.xlabel('False Positive Rate')\n",
    "# y label\n",
    "plt.ylabel('True Positive rate')\n",
    "\n",
    "plt.legend(loc='best')\n",
    "plt.savefig('ROC_original',dpi=300)\n",
    "plt.show();"
   ]
  }
 ],
 "metadata": {
  "kernelspec": {
   "display_name": "Python 3",
   "language": "python",
   "name": "python3"
  },
  "language_info": {
   "codemirror_mode": {
    "name": "ipython",
    "version": 3
   },
   "file_extension": ".py",
   "mimetype": "text/x-python",
   "name": "python",
   "nbconvert_exporter": "python",
   "pygments_lexer": "ipython3",
   "version": "3.11.2"
  },
  "orig_nbformat": 4
 },
 "nbformat": 4,
 "nbformat_minor": 2
}
